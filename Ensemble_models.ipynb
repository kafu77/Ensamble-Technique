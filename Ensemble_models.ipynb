{
  "nbformat": 4,
  "nbformat_minor": 0,
  "metadata": {
    "colab": {
      "provenance": []
    },
    "kernelspec": {
      "name": "python3",
      "display_name": "Python 3"
    },
    "language_info": {
      "name": "python"
    }
  },
  "cells": [
    {
      "cell_type": "code",
      "execution_count": null,
      "metadata": {
        "id": "tYtKqiC5BVNC"
      },
      "outputs": [],
      "source": [
        "#Data reading and visaulizing tools\n",
        "import numpy as np\n",
        "import math\n",
        "import time\n",
        "import pandas as pd\n",
        "import matplotlib.pyplot as plt\n",
        "import seaborn as sns\n",
        "import graphviz\n",
        "%matplotlib inline\n",
        "\n",
        "#preprocessing tools\n",
        "from sklearn.preprocessing import StandardScaler,OneHotEncoder, OrdinalEncoder, LabelEncoder, PolynomialFeatures\n",
        "from sklearn.impute import SimpleImputer,KNNImputer\n",
        "from sklearn.model_selection import train_test_split, GridSearchCV, RandomizedSearchCV, cross_val_score\n",
        "from sklearn.pipeline import Pipeline, make_pipeline\n",
        "from sklearn.compose import ColumnTransformer, make_column_transformer, make_column_selector\n",
        "from sklearn.feature_selection import SelectFromModel, SequentialFeatureSelector\n",
        "from sklearn.tree import export_text, plot_tree,export_graphviz\n",
        "\n",
        "#models\n",
        "from sklearn.neighbors import KNeighborsClassifier\n",
        "from sklearn.tree import DecisionTreeClassifier\n",
        "from sklearn.linear_model import LogisticRegression\n",
        "from sklearn.svm import SVC\n",
        "\n",
        "#Ensemble Models\n",
        "#simple classifier\n",
        "from sklearn.ensemble import VotingClassifier\n",
        "\n",
        "#Bagging Classifiers\n",
        "from sklearn.ensemble import BaggingClassifier\n",
        "from sklearn.ensemble import RandomForestClassifier\n",
        "from sklearn.ensemble import ExtraTreesClassifier\n",
        "\n",
        "#Boosting Classifiers\n",
        "from sklearn.ensemble import AdaBoostClassifier\n",
        "from sklearn.ensemble import GradientBoostingClassifier\n",
        "from xgboost import XGBClassifier  #Extreme Gradient Boosting\n",
        "\n",
        "#models performance evaulation tools\n",
        "from sklearn.metrics import accuracy_score, precision_score, recall_score\n",
        "from sklearn.metrics import confusion_matrix, classification_report\n",
        "from sklearn.metrics import precision_recall_curve, roc_curve\n",
        "from sklearn.metrics import ConfusionMatrixDisplay, RocCurveDisplay\n",
        "\n",
        "#additional tools\n",
        "from sklearn.metrics.pairwise import polynomial_kernel, rbf_kernel\n",
        "\n",
        "from sklearn import set_config\n",
        "set_config(display='diagram')"
      ]
    },
    {
      "cell_type": "code",
      "source": [
        "#url='https://archive.ics.uci.edu/ml/machine-learning-databases/00193/CTG.xls'"
      ],
      "metadata": {
        "id": "TjBqRerEBdq8"
      },
      "execution_count": null,
      "outputs": []
    },
    {
      "cell_type": "markdown",
      "source": [
        "### About this file\n",
        "Data Set Information:\n",
        "\n",
        "Cardiotocography (CTG) is a medical test that is used to monitor the fetal heart rate (FHR) and uterine contractions during pregnancy. A cardiotocogram (CTG) is the graphical representation of the results of this test.\n",
        "\n",
        "During a CTG, two sensors are placed on the mother's abdomen: one to measure the fetal heart rate and the other to detect contractions of the uterus. The results of these measurements are recorded on a graph, which shows the fetal heart rate as a continuous line and the uterine contractions as intermittent spikes.\n",
        "\n",
        "CTGs are commonly used during the antenatal period to assess fetal well-being and during labor to monitor fetal distress. They can help detect potential problems with the pregnancy or labor, such as fetal distress or hypoxia, and allow healthcare providers to take appropriate action to prevent complications and ensure the safe delivery of the baby.\n",
        "\n",
        "2126 fetal cardiotocograms (CTGs) were automatically processed and the respective diagnostic features measured. The CTGs were also classified by three expert obstetricians and a consensus classification label assigned to each of them. Classification was both with respect to a morphologic pattern (A, B, C. …) and to a fetal state (N, S, P). Therefore the dataset can be used either for 10-class or 3-class experiments.\n",
        "\n",
        "Attribute Information:\n",
        "\n",
        "LB - FHR baseline (beats per minute)\n",
        "\n",
        "AC - # of accelerations per second\n",
        "\n",
        "FM - # of fetal movements per second\n",
        "\n",
        "UC - # of uterine contractions per second\n",
        "\n",
        "DL - # of light decelerations per second\n",
        "\n",
        "DS - # of severe decelerations per second\n",
        "\n",
        "DP - # of prolongued decelerations per second\n",
        "\n",
        "ASTV - percentage of time with abnormal short term variability\n",
        "\n",
        "MSTV - mean value of short term variability\n",
        "\n",
        "ALTV - percentage of time with abnormal long term variability\n",
        "\n",
        "MLTV - mean value of long term variability\n",
        "\n",
        "Width - width of FHR histogram\n",
        "\n",
        "Min - minimum of FHR histogram\n",
        "\n",
        "Max - Maximum of FHR histogram\n",
        "\n",
        "Nmax - # of histogram peaks\n",
        "\n",
        "Nzeros - # of histogram zeros\n",
        "\n",
        "Mode - histogram mode\n",
        "\n",
        "Mean - histogram mean\n",
        "\n",
        "Median - histogram median\n",
        "\n",
        "Variance - histogram variance\n",
        "\n",
        "Tendency - histogram tendency\n",
        "\n",
        "CLASS - FHR pattern class code (1 to 10)\n",
        "\n",
        "NSP - fetal state class code (N=normal; S=suspect; P=pathologic)"
      ],
      "metadata": {
        "id": "DycyAPfnH6cm"
      }
    },
    {
      "cell_type": "code",
      "source": [
        "pd.options.display.max_columns= None\n",
        "data=pd.read_excel('/content/drive/MyDrive/Ensembles_Models/CTG.xls', sheet_name = 1, skiprows = 1)\n",
        "data"
      ],
      "metadata": {
        "colab": {
          "base_uri": "https://localhost:8080/",
          "height": 505
        },
        "id": "OnWcQQbBBkfr",
        "outputId": "fda0cf48-ae7a-4f46-a1a7-eb0276c0117e"
      },
      "execution_count": null,
      "outputs": [
        {
          "output_type": "execute_result",
          "data": {
            "text/plain": [
              "           b       e   AC     FM    UC    DL   DS   DP   DR  Unnamed: 9  \\\n",
              "0      240.0   357.0  0.0    0.0   0.0   0.0  0.0  0.0  0.0         NaN   \n",
              "1        5.0   632.0  4.0    0.0   4.0   2.0  0.0  0.0  0.0         NaN   \n",
              "2      177.0   779.0  2.0    0.0   5.0   2.0  0.0  0.0  0.0         NaN   \n",
              "3      411.0  1192.0  2.0    0.0   6.0   2.0  0.0  0.0  0.0         NaN   \n",
              "4      533.0  1147.0  4.0    0.0   5.0   0.0  0.0  0.0  0.0         NaN   \n",
              "...      ...     ...  ...    ...   ...   ...  ...  ...  ...         ...   \n",
              "2124  1576.0  3049.0  1.0    0.0   9.0   0.0  0.0  0.0  0.0         NaN   \n",
              "2125  2796.0  3415.0  1.0    1.0   5.0   0.0  0.0  0.0  0.0         NaN   \n",
              "2126     NaN     NaN  NaN    NaN   NaN   NaN  NaN  NaN  NaN         NaN   \n",
              "2127     NaN     NaN  NaN    NaN   NaN   0.0  0.0  0.0  0.0         NaN   \n",
              "2128     NaN     NaN  NaN  564.0  23.0  16.0  1.0  4.0  0.0         NaN   \n",
              "\n",
              "         LB      AC.1      FM.1      UC.1      DL.1      DS.1      DP.1  ASTV  \\\n",
              "0     120.0  0.000000  0.000000  0.000000  0.000000  0.000000  0.000000  73.0   \n",
              "1     132.0  0.006380  0.000000  0.006380  0.003190  0.000000  0.000000  17.0   \n",
              "2     133.0  0.003322  0.000000  0.008306  0.003322  0.000000  0.000000  16.0   \n",
              "3     134.0  0.002561  0.000000  0.007682  0.002561  0.000000  0.000000  16.0   \n",
              "4     132.0  0.006515  0.000000  0.008143  0.000000  0.000000  0.000000  16.0   \n",
              "...     ...       ...       ...       ...       ...       ...       ...   ...   \n",
              "2124  140.0  0.000679  0.000000  0.006110  0.000000  0.000000  0.000000  78.0   \n",
              "2125  142.0  0.001616  0.001616  0.008078  0.000000  0.000000  0.000000  74.0   \n",
              "2126    NaN       NaN       NaN       NaN       NaN       NaN       NaN   NaN   \n",
              "2127    NaN       NaN       NaN       NaN  0.000000  0.000000  0.000000   NaN   \n",
              "2128    NaN       NaN  0.480634  0.014925  0.015385  0.001353  0.005348  87.0   \n",
              "\n",
              "      MSTV  ALTV  MLTV  Width    Min    Max  Nmax  Nzeros   Mode   Mean  \\\n",
              "0      0.5  43.0   2.4   64.0   62.0  126.0   2.0     0.0  120.0  137.0   \n",
              "1      2.1   0.0  10.4  130.0   68.0  198.0   6.0     1.0  141.0  136.0   \n",
              "2      2.1   0.0  13.4  130.0   68.0  198.0   5.0     1.0  141.0  135.0   \n",
              "3      2.4   0.0  23.0  117.0   53.0  170.0  11.0     0.0  137.0  134.0   \n",
              "4      2.4   0.0  19.9  117.0   53.0  170.0   9.0     0.0  137.0  136.0   \n",
              "...    ...   ...   ...    ...    ...    ...   ...     ...    ...    ...   \n",
              "2124   0.4  27.0   7.0   66.0  103.0  169.0   6.0     0.0  152.0  147.0   \n",
              "2125   0.4  36.0   5.0   42.0  117.0  159.0   2.0     1.0  145.0  143.0   \n",
              "2126   NaN   NaN   NaN    NaN    NaN    NaN   NaN     NaN    NaN    NaN   \n",
              "2127   NaN   NaN   NaN    NaN    NaN    NaN   NaN     NaN    NaN    NaN   \n",
              "2128   7.0  91.0  50.7    NaN    NaN    NaN   NaN     NaN    NaN    NaN   \n",
              "\n",
              "      Median  Variance  Tendency  Unnamed: 31      A      B     C     D     E  \\\n",
              "0      121.0      73.0       1.0          NaN   -1.0   -1.0  -1.0  -1.0  -1.0   \n",
              "1      140.0      12.0       0.0          NaN   -1.0   -1.0  -1.0  -1.0  -1.0   \n",
              "2      138.0      13.0       0.0          NaN   -1.0   -1.0  -1.0  -1.0  -1.0   \n",
              "3      137.0      13.0       1.0          NaN   -1.0   -1.0  -1.0  -1.0  -1.0   \n",
              "4      138.0      11.0       1.0          NaN   -1.0    1.0  -1.0  -1.0  -1.0   \n",
              "...      ...       ...       ...          ...    ...    ...   ...   ...   ...   \n",
              "2124   151.0       4.0       1.0          NaN   -1.0   -1.0  -1.0  -1.0   1.0   \n",
              "2125   145.0       1.0       0.0          NaN    1.0   -1.0  -1.0  -1.0  -1.0   \n",
              "2126     NaN       NaN       NaN          NaN    NaN    NaN   NaN   NaN   NaN   \n",
              "2127     NaN       NaN       NaN          NaN  384.0  579.0  53.0  81.0  72.0   \n",
              "2128     NaN       NaN       NaN          NaN    NaN    NaN   NaN   NaN   NaN   \n",
              "\n",
              "         AD     DE     LD    FS   SUSP  Unnamed: 42  CLASS  Unnamed: 44  NSP  \n",
              "0      -1.0   -1.0   -1.0   1.0   -1.0          NaN    9.0          NaN  2.0  \n",
              "1       1.0   -1.0   -1.0  -1.0   -1.0          NaN    6.0          NaN  1.0  \n",
              "2       1.0   -1.0   -1.0  -1.0   -1.0          NaN    6.0          NaN  1.0  \n",
              "3       1.0   -1.0   -1.0  -1.0   -1.0          NaN    6.0          NaN  1.0  \n",
              "4      -1.0   -1.0   -1.0  -1.0   -1.0          NaN    2.0          NaN  1.0  \n",
              "...     ...    ...    ...   ...    ...          ...    ...          ...  ...  \n",
              "2124   -1.0   -1.0   -1.0  -1.0   -1.0          NaN    5.0          NaN  2.0  \n",
              "2125   -1.0   -1.0   -1.0  -1.0   -1.0          NaN    1.0          NaN  1.0  \n",
              "2126    NaN    NaN    NaN   NaN    NaN          NaN    NaN          NaN  NaN  \n",
              "2127  332.0  252.0  107.0  69.0  197.0          NaN    NaN          NaN  NaN  \n",
              "2128    NaN    NaN    NaN   NaN    NaN          NaN    NaN          NaN  NaN  \n",
              "\n",
              "[2129 rows x 46 columns]"
            ],
            "text/html": [
              "\n",
              "  <div id=\"df-0f26065a-358d-42bd-bfc9-9fc2deea0829\">\n",
              "    <div class=\"colab-df-container\">\n",
              "      <div>\n",
              "<style scoped>\n",
              "    .dataframe tbody tr th:only-of-type {\n",
              "        vertical-align: middle;\n",
              "    }\n",
              "\n",
              "    .dataframe tbody tr th {\n",
              "        vertical-align: top;\n",
              "    }\n",
              "\n",
              "    .dataframe thead th {\n",
              "        text-align: right;\n",
              "    }\n",
              "</style>\n",
              "<table border=\"1\" class=\"dataframe\">\n",
              "  <thead>\n",
              "    <tr style=\"text-align: right;\">\n",
              "      <th></th>\n",
              "      <th>b</th>\n",
              "      <th>e</th>\n",
              "      <th>AC</th>\n",
              "      <th>FM</th>\n",
              "      <th>UC</th>\n",
              "      <th>DL</th>\n",
              "      <th>DS</th>\n",
              "      <th>DP</th>\n",
              "      <th>DR</th>\n",
              "      <th>Unnamed: 9</th>\n",
              "      <th>LB</th>\n",
              "      <th>AC.1</th>\n",
              "      <th>FM.1</th>\n",
              "      <th>UC.1</th>\n",
              "      <th>DL.1</th>\n",
              "      <th>DS.1</th>\n",
              "      <th>DP.1</th>\n",
              "      <th>ASTV</th>\n",
              "      <th>MSTV</th>\n",
              "      <th>ALTV</th>\n",
              "      <th>MLTV</th>\n",
              "      <th>Width</th>\n",
              "      <th>Min</th>\n",
              "      <th>Max</th>\n",
              "      <th>Nmax</th>\n",
              "      <th>Nzeros</th>\n",
              "      <th>Mode</th>\n",
              "      <th>Mean</th>\n",
              "      <th>Median</th>\n",
              "      <th>Variance</th>\n",
              "      <th>Tendency</th>\n",
              "      <th>Unnamed: 31</th>\n",
              "      <th>A</th>\n",
              "      <th>B</th>\n",
              "      <th>C</th>\n",
              "      <th>D</th>\n",
              "      <th>E</th>\n",
              "      <th>AD</th>\n",
              "      <th>DE</th>\n",
              "      <th>LD</th>\n",
              "      <th>FS</th>\n",
              "      <th>SUSP</th>\n",
              "      <th>Unnamed: 42</th>\n",
              "      <th>CLASS</th>\n",
              "      <th>Unnamed: 44</th>\n",
              "      <th>NSP</th>\n",
              "    </tr>\n",
              "  </thead>\n",
              "  <tbody>\n",
              "    <tr>\n",
              "      <th>0</th>\n",
              "      <td>240.0</td>\n",
              "      <td>357.0</td>\n",
              "      <td>0.0</td>\n",
              "      <td>0.0</td>\n",
              "      <td>0.0</td>\n",
              "      <td>0.0</td>\n",
              "      <td>0.0</td>\n",
              "      <td>0.0</td>\n",
              "      <td>0.0</td>\n",
              "      <td>NaN</td>\n",
              "      <td>120.0</td>\n",
              "      <td>0.000000</td>\n",
              "      <td>0.000000</td>\n",
              "      <td>0.000000</td>\n",
              "      <td>0.000000</td>\n",
              "      <td>0.000000</td>\n",
              "      <td>0.000000</td>\n",
              "      <td>73.0</td>\n",
              "      <td>0.5</td>\n",
              "      <td>43.0</td>\n",
              "      <td>2.4</td>\n",
              "      <td>64.0</td>\n",
              "      <td>62.0</td>\n",
              "      <td>126.0</td>\n",
              "      <td>2.0</td>\n",
              "      <td>0.0</td>\n",
              "      <td>120.0</td>\n",
              "      <td>137.0</td>\n",
              "      <td>121.0</td>\n",
              "      <td>73.0</td>\n",
              "      <td>1.0</td>\n",
              "      <td>NaN</td>\n",
              "      <td>-1.0</td>\n",
              "      <td>-1.0</td>\n",
              "      <td>-1.0</td>\n",
              "      <td>-1.0</td>\n",
              "      <td>-1.0</td>\n",
              "      <td>-1.0</td>\n",
              "      <td>-1.0</td>\n",
              "      <td>-1.0</td>\n",
              "      <td>1.0</td>\n",
              "      <td>-1.0</td>\n",
              "      <td>NaN</td>\n",
              "      <td>9.0</td>\n",
              "      <td>NaN</td>\n",
              "      <td>2.0</td>\n",
              "    </tr>\n",
              "    <tr>\n",
              "      <th>1</th>\n",
              "      <td>5.0</td>\n",
              "      <td>632.0</td>\n",
              "      <td>4.0</td>\n",
              "      <td>0.0</td>\n",
              "      <td>4.0</td>\n",
              "      <td>2.0</td>\n",
              "      <td>0.0</td>\n",
              "      <td>0.0</td>\n",
              "      <td>0.0</td>\n",
              "      <td>NaN</td>\n",
              "      <td>132.0</td>\n",
              "      <td>0.006380</td>\n",
              "      <td>0.000000</td>\n",
              "      <td>0.006380</td>\n",
              "      <td>0.003190</td>\n",
              "      <td>0.000000</td>\n",
              "      <td>0.000000</td>\n",
              "      <td>17.0</td>\n",
              "      <td>2.1</td>\n",
              "      <td>0.0</td>\n",
              "      <td>10.4</td>\n",
              "      <td>130.0</td>\n",
              "      <td>68.0</td>\n",
              "      <td>198.0</td>\n",
              "      <td>6.0</td>\n",
              "      <td>1.0</td>\n",
              "      <td>141.0</td>\n",
              "      <td>136.0</td>\n",
              "      <td>140.0</td>\n",
              "      <td>12.0</td>\n",
              "      <td>0.0</td>\n",
              "      <td>NaN</td>\n",
              "      <td>-1.0</td>\n",
              "      <td>-1.0</td>\n",
              "      <td>-1.0</td>\n",
              "      <td>-1.0</td>\n",
              "      <td>-1.0</td>\n",
              "      <td>1.0</td>\n",
              "      <td>-1.0</td>\n",
              "      <td>-1.0</td>\n",
              "      <td>-1.0</td>\n",
              "      <td>-1.0</td>\n",
              "      <td>NaN</td>\n",
              "      <td>6.0</td>\n",
              "      <td>NaN</td>\n",
              "      <td>1.0</td>\n",
              "    </tr>\n",
              "    <tr>\n",
              "      <th>2</th>\n",
              "      <td>177.0</td>\n",
              "      <td>779.0</td>\n",
              "      <td>2.0</td>\n",
              "      <td>0.0</td>\n",
              "      <td>5.0</td>\n",
              "      <td>2.0</td>\n",
              "      <td>0.0</td>\n",
              "      <td>0.0</td>\n",
              "      <td>0.0</td>\n",
              "      <td>NaN</td>\n",
              "      <td>133.0</td>\n",
              "      <td>0.003322</td>\n",
              "      <td>0.000000</td>\n",
              "      <td>0.008306</td>\n",
              "      <td>0.003322</td>\n",
              "      <td>0.000000</td>\n",
              "      <td>0.000000</td>\n",
              "      <td>16.0</td>\n",
              "      <td>2.1</td>\n",
              "      <td>0.0</td>\n",
              "      <td>13.4</td>\n",
              "      <td>130.0</td>\n",
              "      <td>68.0</td>\n",
              "      <td>198.0</td>\n",
              "      <td>5.0</td>\n",
              "      <td>1.0</td>\n",
              "      <td>141.0</td>\n",
              "      <td>135.0</td>\n",
              "      <td>138.0</td>\n",
              "      <td>13.0</td>\n",
              "      <td>0.0</td>\n",
              "      <td>NaN</td>\n",
              "      <td>-1.0</td>\n",
              "      <td>-1.0</td>\n",
              "      <td>-1.0</td>\n",
              "      <td>-1.0</td>\n",
              "      <td>-1.0</td>\n",
              "      <td>1.0</td>\n",
              "      <td>-1.0</td>\n",
              "      <td>-1.0</td>\n",
              "      <td>-1.0</td>\n",
              "      <td>-1.0</td>\n",
              "      <td>NaN</td>\n",
              "      <td>6.0</td>\n",
              "      <td>NaN</td>\n",
              "      <td>1.0</td>\n",
              "    </tr>\n",
              "    <tr>\n",
              "      <th>3</th>\n",
              "      <td>411.0</td>\n",
              "      <td>1192.0</td>\n",
              "      <td>2.0</td>\n",
              "      <td>0.0</td>\n",
              "      <td>6.0</td>\n",
              "      <td>2.0</td>\n",
              "      <td>0.0</td>\n",
              "      <td>0.0</td>\n",
              "      <td>0.0</td>\n",
              "      <td>NaN</td>\n",
              "      <td>134.0</td>\n",
              "      <td>0.002561</td>\n",
              "      <td>0.000000</td>\n",
              "      <td>0.007682</td>\n",
              "      <td>0.002561</td>\n",
              "      <td>0.000000</td>\n",
              "      <td>0.000000</td>\n",
              "      <td>16.0</td>\n",
              "      <td>2.4</td>\n",
              "      <td>0.0</td>\n",
              "      <td>23.0</td>\n",
              "      <td>117.0</td>\n",
              "      <td>53.0</td>\n",
              "      <td>170.0</td>\n",
              "      <td>11.0</td>\n",
              "      <td>0.0</td>\n",
              "      <td>137.0</td>\n",
              "      <td>134.0</td>\n",
              "      <td>137.0</td>\n",
              "      <td>13.0</td>\n",
              "      <td>1.0</td>\n",
              "      <td>NaN</td>\n",
              "      <td>-1.0</td>\n",
              "      <td>-1.0</td>\n",
              "      <td>-1.0</td>\n",
              "      <td>-1.0</td>\n",
              "      <td>-1.0</td>\n",
              "      <td>1.0</td>\n",
              "      <td>-1.0</td>\n",
              "      <td>-1.0</td>\n",
              "      <td>-1.0</td>\n",
              "      <td>-1.0</td>\n",
              "      <td>NaN</td>\n",
              "      <td>6.0</td>\n",
              "      <td>NaN</td>\n",
              "      <td>1.0</td>\n",
              "    </tr>\n",
              "    <tr>\n",
              "      <th>4</th>\n",
              "      <td>533.0</td>\n",
              "      <td>1147.0</td>\n",
              "      <td>4.0</td>\n",
              "      <td>0.0</td>\n",
              "      <td>5.0</td>\n",
              "      <td>0.0</td>\n",
              "      <td>0.0</td>\n",
              "      <td>0.0</td>\n",
              "      <td>0.0</td>\n",
              "      <td>NaN</td>\n",
              "      <td>132.0</td>\n",
              "      <td>0.006515</td>\n",
              "      <td>0.000000</td>\n",
              "      <td>0.008143</td>\n",
              "      <td>0.000000</td>\n",
              "      <td>0.000000</td>\n",
              "      <td>0.000000</td>\n",
              "      <td>16.0</td>\n",
              "      <td>2.4</td>\n",
              "      <td>0.0</td>\n",
              "      <td>19.9</td>\n",
              "      <td>117.0</td>\n",
              "      <td>53.0</td>\n",
              "      <td>170.0</td>\n",
              "      <td>9.0</td>\n",
              "      <td>0.0</td>\n",
              "      <td>137.0</td>\n",
              "      <td>136.0</td>\n",
              "      <td>138.0</td>\n",
              "      <td>11.0</td>\n",
              "      <td>1.0</td>\n",
              "      <td>NaN</td>\n",
              "      <td>-1.0</td>\n",
              "      <td>1.0</td>\n",
              "      <td>-1.0</td>\n",
              "      <td>-1.0</td>\n",
              "      <td>-1.0</td>\n",
              "      <td>-1.0</td>\n",
              "      <td>-1.0</td>\n",
              "      <td>-1.0</td>\n",
              "      <td>-1.0</td>\n",
              "      <td>-1.0</td>\n",
              "      <td>NaN</td>\n",
              "      <td>2.0</td>\n",
              "      <td>NaN</td>\n",
              "      <td>1.0</td>\n",
              "    </tr>\n",
              "    <tr>\n",
              "      <th>...</th>\n",
              "      <td>...</td>\n",
              "      <td>...</td>\n",
              "      <td>...</td>\n",
              "      <td>...</td>\n",
              "      <td>...</td>\n",
              "      <td>...</td>\n",
              "      <td>...</td>\n",
              "      <td>...</td>\n",
              "      <td>...</td>\n",
              "      <td>...</td>\n",
              "      <td>...</td>\n",
              "      <td>...</td>\n",
              "      <td>...</td>\n",
              "      <td>...</td>\n",
              "      <td>...</td>\n",
              "      <td>...</td>\n",
              "      <td>...</td>\n",
              "      <td>...</td>\n",
              "      <td>...</td>\n",
              "      <td>...</td>\n",
              "      <td>...</td>\n",
              "      <td>...</td>\n",
              "      <td>...</td>\n",
              "      <td>...</td>\n",
              "      <td>...</td>\n",
              "      <td>...</td>\n",
              "      <td>...</td>\n",
              "      <td>...</td>\n",
              "      <td>...</td>\n",
              "      <td>...</td>\n",
              "      <td>...</td>\n",
              "      <td>...</td>\n",
              "      <td>...</td>\n",
              "      <td>...</td>\n",
              "      <td>...</td>\n",
              "      <td>...</td>\n",
              "      <td>...</td>\n",
              "      <td>...</td>\n",
              "      <td>...</td>\n",
              "      <td>...</td>\n",
              "      <td>...</td>\n",
              "      <td>...</td>\n",
              "      <td>...</td>\n",
              "      <td>...</td>\n",
              "      <td>...</td>\n",
              "      <td>...</td>\n",
              "    </tr>\n",
              "    <tr>\n",
              "      <th>2124</th>\n",
              "      <td>1576.0</td>\n",
              "      <td>3049.0</td>\n",
              "      <td>1.0</td>\n",
              "      <td>0.0</td>\n",
              "      <td>9.0</td>\n",
              "      <td>0.0</td>\n",
              "      <td>0.0</td>\n",
              "      <td>0.0</td>\n",
              "      <td>0.0</td>\n",
              "      <td>NaN</td>\n",
              "      <td>140.0</td>\n",
              "      <td>0.000679</td>\n",
              "      <td>0.000000</td>\n",
              "      <td>0.006110</td>\n",
              "      <td>0.000000</td>\n",
              "      <td>0.000000</td>\n",
              "      <td>0.000000</td>\n",
              "      <td>78.0</td>\n",
              "      <td>0.4</td>\n",
              "      <td>27.0</td>\n",
              "      <td>7.0</td>\n",
              "      <td>66.0</td>\n",
              "      <td>103.0</td>\n",
              "      <td>169.0</td>\n",
              "      <td>6.0</td>\n",
              "      <td>0.0</td>\n",
              "      <td>152.0</td>\n",
              "      <td>147.0</td>\n",
              "      <td>151.0</td>\n",
              "      <td>4.0</td>\n",
              "      <td>1.0</td>\n",
              "      <td>NaN</td>\n",
              "      <td>-1.0</td>\n",
              "      <td>-1.0</td>\n",
              "      <td>-1.0</td>\n",
              "      <td>-1.0</td>\n",
              "      <td>1.0</td>\n",
              "      <td>-1.0</td>\n",
              "      <td>-1.0</td>\n",
              "      <td>-1.0</td>\n",
              "      <td>-1.0</td>\n",
              "      <td>-1.0</td>\n",
              "      <td>NaN</td>\n",
              "      <td>5.0</td>\n",
              "      <td>NaN</td>\n",
              "      <td>2.0</td>\n",
              "    </tr>\n",
              "    <tr>\n",
              "      <th>2125</th>\n",
              "      <td>2796.0</td>\n",
              "      <td>3415.0</td>\n",
              "      <td>1.0</td>\n",
              "      <td>1.0</td>\n",
              "      <td>5.0</td>\n",
              "      <td>0.0</td>\n",
              "      <td>0.0</td>\n",
              "      <td>0.0</td>\n",
              "      <td>0.0</td>\n",
              "      <td>NaN</td>\n",
              "      <td>142.0</td>\n",
              "      <td>0.001616</td>\n",
              "      <td>0.001616</td>\n",
              "      <td>0.008078</td>\n",
              "      <td>0.000000</td>\n",
              "      <td>0.000000</td>\n",
              "      <td>0.000000</td>\n",
              "      <td>74.0</td>\n",
              "      <td>0.4</td>\n",
              "      <td>36.0</td>\n",
              "      <td>5.0</td>\n",
              "      <td>42.0</td>\n",
              "      <td>117.0</td>\n",
              "      <td>159.0</td>\n",
              "      <td>2.0</td>\n",
              "      <td>1.0</td>\n",
              "      <td>145.0</td>\n",
              "      <td>143.0</td>\n",
              "      <td>145.0</td>\n",
              "      <td>1.0</td>\n",
              "      <td>0.0</td>\n",
              "      <td>NaN</td>\n",
              "      <td>1.0</td>\n",
              "      <td>-1.0</td>\n",
              "      <td>-1.0</td>\n",
              "      <td>-1.0</td>\n",
              "      <td>-1.0</td>\n",
              "      <td>-1.0</td>\n",
              "      <td>-1.0</td>\n",
              "      <td>-1.0</td>\n",
              "      <td>-1.0</td>\n",
              "      <td>-1.0</td>\n",
              "      <td>NaN</td>\n",
              "      <td>1.0</td>\n",
              "      <td>NaN</td>\n",
              "      <td>1.0</td>\n",
              "    </tr>\n",
              "    <tr>\n",
              "      <th>2126</th>\n",
              "      <td>NaN</td>\n",
              "      <td>NaN</td>\n",
              "      <td>NaN</td>\n",
              "      <td>NaN</td>\n",
              "      <td>NaN</td>\n",
              "      <td>NaN</td>\n",
              "      <td>NaN</td>\n",
              "      <td>NaN</td>\n",
              "      <td>NaN</td>\n",
              "      <td>NaN</td>\n",
              "      <td>NaN</td>\n",
              "      <td>NaN</td>\n",
              "      <td>NaN</td>\n",
              "      <td>NaN</td>\n",
              "      <td>NaN</td>\n",
              "      <td>NaN</td>\n",
              "      <td>NaN</td>\n",
              "      <td>NaN</td>\n",
              "      <td>NaN</td>\n",
              "      <td>NaN</td>\n",
              "      <td>NaN</td>\n",
              "      <td>NaN</td>\n",
              "      <td>NaN</td>\n",
              "      <td>NaN</td>\n",
              "      <td>NaN</td>\n",
              "      <td>NaN</td>\n",
              "      <td>NaN</td>\n",
              "      <td>NaN</td>\n",
              "      <td>NaN</td>\n",
              "      <td>NaN</td>\n",
              "      <td>NaN</td>\n",
              "      <td>NaN</td>\n",
              "      <td>NaN</td>\n",
              "      <td>NaN</td>\n",
              "      <td>NaN</td>\n",
              "      <td>NaN</td>\n",
              "      <td>NaN</td>\n",
              "      <td>NaN</td>\n",
              "      <td>NaN</td>\n",
              "      <td>NaN</td>\n",
              "      <td>NaN</td>\n",
              "      <td>NaN</td>\n",
              "      <td>NaN</td>\n",
              "      <td>NaN</td>\n",
              "      <td>NaN</td>\n",
              "      <td>NaN</td>\n",
              "    </tr>\n",
              "    <tr>\n",
              "      <th>2127</th>\n",
              "      <td>NaN</td>\n",
              "      <td>NaN</td>\n",
              "      <td>NaN</td>\n",
              "      <td>NaN</td>\n",
              "      <td>NaN</td>\n",
              "      <td>0.0</td>\n",
              "      <td>0.0</td>\n",
              "      <td>0.0</td>\n",
              "      <td>0.0</td>\n",
              "      <td>NaN</td>\n",
              "      <td>NaN</td>\n",
              "      <td>NaN</td>\n",
              "      <td>NaN</td>\n",
              "      <td>NaN</td>\n",
              "      <td>0.000000</td>\n",
              "      <td>0.000000</td>\n",
              "      <td>0.000000</td>\n",
              "      <td>NaN</td>\n",
              "      <td>NaN</td>\n",
              "      <td>NaN</td>\n",
              "      <td>NaN</td>\n",
              "      <td>NaN</td>\n",
              "      <td>NaN</td>\n",
              "      <td>NaN</td>\n",
              "      <td>NaN</td>\n",
              "      <td>NaN</td>\n",
              "      <td>NaN</td>\n",
              "      <td>NaN</td>\n",
              "      <td>NaN</td>\n",
              "      <td>NaN</td>\n",
              "      <td>NaN</td>\n",
              "      <td>NaN</td>\n",
              "      <td>384.0</td>\n",
              "      <td>579.0</td>\n",
              "      <td>53.0</td>\n",
              "      <td>81.0</td>\n",
              "      <td>72.0</td>\n",
              "      <td>332.0</td>\n",
              "      <td>252.0</td>\n",
              "      <td>107.0</td>\n",
              "      <td>69.0</td>\n",
              "      <td>197.0</td>\n",
              "      <td>NaN</td>\n",
              "      <td>NaN</td>\n",
              "      <td>NaN</td>\n",
              "      <td>NaN</td>\n",
              "    </tr>\n",
              "    <tr>\n",
              "      <th>2128</th>\n",
              "      <td>NaN</td>\n",
              "      <td>NaN</td>\n",
              "      <td>NaN</td>\n",
              "      <td>564.0</td>\n",
              "      <td>23.0</td>\n",
              "      <td>16.0</td>\n",
              "      <td>1.0</td>\n",
              "      <td>4.0</td>\n",
              "      <td>0.0</td>\n",
              "      <td>NaN</td>\n",
              "      <td>NaN</td>\n",
              "      <td>NaN</td>\n",
              "      <td>0.480634</td>\n",
              "      <td>0.014925</td>\n",
              "      <td>0.015385</td>\n",
              "      <td>0.001353</td>\n",
              "      <td>0.005348</td>\n",
              "      <td>87.0</td>\n",
              "      <td>7.0</td>\n",
              "      <td>91.0</td>\n",
              "      <td>50.7</td>\n",
              "      <td>NaN</td>\n",
              "      <td>NaN</td>\n",
              "      <td>NaN</td>\n",
              "      <td>NaN</td>\n",
              "      <td>NaN</td>\n",
              "      <td>NaN</td>\n",
              "      <td>NaN</td>\n",
              "      <td>NaN</td>\n",
              "      <td>NaN</td>\n",
              "      <td>NaN</td>\n",
              "      <td>NaN</td>\n",
              "      <td>NaN</td>\n",
              "      <td>NaN</td>\n",
              "      <td>NaN</td>\n",
              "      <td>NaN</td>\n",
              "      <td>NaN</td>\n",
              "      <td>NaN</td>\n",
              "      <td>NaN</td>\n",
              "      <td>NaN</td>\n",
              "      <td>NaN</td>\n",
              "      <td>NaN</td>\n",
              "      <td>NaN</td>\n",
              "      <td>NaN</td>\n",
              "      <td>NaN</td>\n",
              "      <td>NaN</td>\n",
              "    </tr>\n",
              "  </tbody>\n",
              "</table>\n",
              "<p>2129 rows × 46 columns</p>\n",
              "</div>\n",
              "      <button class=\"colab-df-convert\" onclick=\"convertToInteractive('df-0f26065a-358d-42bd-bfc9-9fc2deea0829')\"\n",
              "              title=\"Convert this dataframe to an interactive table.\"\n",
              "              style=\"display:none;\">\n",
              "        \n",
              "  <svg xmlns=\"http://www.w3.org/2000/svg\" height=\"24px\"viewBox=\"0 0 24 24\"\n",
              "       width=\"24px\">\n",
              "    <path d=\"M0 0h24v24H0V0z\" fill=\"none\"/>\n",
              "    <path d=\"M18.56 5.44l.94 2.06.94-2.06 2.06-.94-2.06-.94-.94-2.06-.94 2.06-2.06.94zm-11 1L8.5 8.5l.94-2.06 2.06-.94-2.06-.94L8.5 2.5l-.94 2.06-2.06.94zm10 10l.94 2.06.94-2.06 2.06-.94-2.06-.94-.94-2.06-.94 2.06-2.06.94z\"/><path d=\"M17.41 7.96l-1.37-1.37c-.4-.4-.92-.59-1.43-.59-.52 0-1.04.2-1.43.59L10.3 9.45l-7.72 7.72c-.78.78-.78 2.05 0 2.83L4 21.41c.39.39.9.59 1.41.59.51 0 1.02-.2 1.41-.59l7.78-7.78 2.81-2.81c.8-.78.8-2.07 0-2.86zM5.41 20L4 18.59l7.72-7.72 1.47 1.35L5.41 20z\"/>\n",
              "  </svg>\n",
              "      </button>\n",
              "      \n",
              "  <style>\n",
              "    .colab-df-container {\n",
              "      display:flex;\n",
              "      flex-wrap:wrap;\n",
              "      gap: 12px;\n",
              "    }\n",
              "\n",
              "    .colab-df-convert {\n",
              "      background-color: #E8F0FE;\n",
              "      border: none;\n",
              "      border-radius: 50%;\n",
              "      cursor: pointer;\n",
              "      display: none;\n",
              "      fill: #1967D2;\n",
              "      height: 32px;\n",
              "      padding: 0 0 0 0;\n",
              "      width: 32px;\n",
              "    }\n",
              "\n",
              "    .colab-df-convert:hover {\n",
              "      background-color: #E2EBFA;\n",
              "      box-shadow: 0px 1px 2px rgba(60, 64, 67, 0.3), 0px 1px 3px 1px rgba(60, 64, 67, 0.15);\n",
              "      fill: #174EA6;\n",
              "    }\n",
              "\n",
              "    [theme=dark] .colab-df-convert {\n",
              "      background-color: #3B4455;\n",
              "      fill: #D2E3FC;\n",
              "    }\n",
              "\n",
              "    [theme=dark] .colab-df-convert:hover {\n",
              "      background-color: #434B5C;\n",
              "      box-shadow: 0px 1px 3px 1px rgba(0, 0, 0, 0.15);\n",
              "      filter: drop-shadow(0px 1px 2px rgba(0, 0, 0, 0.3));\n",
              "      fill: #FFFFFF;\n",
              "    }\n",
              "  </style>\n",
              "\n",
              "      <script>\n",
              "        const buttonEl =\n",
              "          document.querySelector('#df-0f26065a-358d-42bd-bfc9-9fc2deea0829 button.colab-df-convert');\n",
              "        buttonEl.style.display =\n",
              "          google.colab.kernel.accessAllowed ? 'block' : 'none';\n",
              "\n",
              "        async function convertToInteractive(key) {\n",
              "          const element = document.querySelector('#df-0f26065a-358d-42bd-bfc9-9fc2deea0829');\n",
              "          const dataTable =\n",
              "            await google.colab.kernel.invokeFunction('convertToInteractive',\n",
              "                                                     [key], {});\n",
              "          if (!dataTable) return;\n",
              "\n",
              "          const docLinkHtml = 'Like what you see? Visit the ' +\n",
              "            '<a target=\"_blank\" href=https://colab.research.google.com/notebooks/data_table.ipynb>data table notebook</a>'\n",
              "            + ' to learn more about interactive tables.';\n",
              "          element.innerHTML = '';\n",
              "          dataTable['output_type'] = 'display_data';\n",
              "          await google.colab.output.renderOutput(dataTable, element);\n",
              "          const docLink = document.createElement('div');\n",
              "          docLink.innerHTML = docLinkHtml;\n",
              "          element.appendChild(docLink);\n",
              "        }\n",
              "      </script>\n",
              "    </div>\n",
              "  </div>\n",
              "  "
            ]
          },
          "metadata": {},
          "execution_count": 9
        }
      ]
    },
    {
      "cell_type": "code",
      "source": [
        "#Let's drop the unecessary columns\n",
        "data.drop(data.iloc[:, :10], inplace = True, axis = 1) \n",
        "data.drop(data.iloc[:, 22:33], inplace = True, axis = 1)"
      ],
      "metadata": {
        "id": "LHllHEesBnaJ"
      },
      "execution_count": null,
      "outputs": []
    },
    {
      "cell_type": "code",
      "source": [
        "data = data.drop(['Unnamed: 31', 'Unnamed: 44'], axis = 1)"
      ],
      "metadata": {
        "id": "6EjYCcrWDRGi"
      },
      "execution_count": null,
      "outputs": []
    },
    {
      "cell_type": "code",
      "source": [
        "data.info()"
      ],
      "metadata": {
        "colab": {
          "base_uri": "https://localhost:8080/"
        },
        "id": "WC5e4gUmDWtC",
        "outputId": "c6505cf0-ac32-46ea-a479-0a8da2aaabfb"
      },
      "execution_count": null,
      "outputs": [
        {
          "output_type": "stream",
          "name": "stdout",
          "text": [
            "<class 'pandas.core.frame.DataFrame'>\n",
            "RangeIndex: 2129 entries, 0 to 2128\n",
            "Data columns (total 23 columns):\n",
            " #   Column    Non-Null Count  Dtype  \n",
            "---  ------    --------------  -----  \n",
            " 0   LB        2126 non-null   float64\n",
            " 1   AC.1      2126 non-null   float64\n",
            " 2   FM.1      2127 non-null   float64\n",
            " 3   UC.1      2127 non-null   float64\n",
            " 4   DL.1      2128 non-null   float64\n",
            " 5   DS.1      2128 non-null   float64\n",
            " 6   DP.1      2128 non-null   float64\n",
            " 7   ASTV      2127 non-null   float64\n",
            " 8   MSTV      2127 non-null   float64\n",
            " 9   ALTV      2127 non-null   float64\n",
            " 10  MLTV      2127 non-null   float64\n",
            " 11  Width     2126 non-null   float64\n",
            " 12  Min       2126 non-null   float64\n",
            " 13  Max       2126 non-null   float64\n",
            " 14  Nmax      2126 non-null   float64\n",
            " 15  Nzeros    2126 non-null   float64\n",
            " 16  Mode      2126 non-null   float64\n",
            " 17  Mean      2126 non-null   float64\n",
            " 18  Median    2126 non-null   float64\n",
            " 19  Variance  2126 non-null   float64\n",
            " 20  Tendency  2126 non-null   float64\n",
            " 21  CLASS     2126 non-null   float64\n",
            " 22  NSP       2126 non-null   float64\n",
            "dtypes: float64(23)\n",
            "memory usage: 382.7 KB\n"
          ]
        }
      ]
    },
    {
      "cell_type": "code",
      "source": [
        "data.isna().sum()"
      ],
      "metadata": {
        "colab": {
          "base_uri": "https://localhost:8080/"
        },
        "id": "bfYxTgMnDan4",
        "outputId": "bb4261b4-12db-4eef-b2e3-796f95f9c202"
      },
      "execution_count": null,
      "outputs": [
        {
          "output_type": "execute_result",
          "data": {
            "text/plain": [
              "LB          3\n",
              "AC.1        3\n",
              "FM.1        2\n",
              "UC.1        2\n",
              "DL.1        1\n",
              "DS.1        1\n",
              "DP.1        1\n",
              "ASTV        2\n",
              "MSTV        2\n",
              "ALTV        2\n",
              "MLTV        2\n",
              "Width       3\n",
              "Min         3\n",
              "Max         3\n",
              "Nmax        3\n",
              "Nzeros      3\n",
              "Mode        3\n",
              "Mean        3\n",
              "Median      3\n",
              "Variance    3\n",
              "Tendency    3\n",
              "CLASS       3\n",
              "NSP         3\n",
              "dtype: int64"
            ]
          },
          "metadata": {},
          "execution_count": 13
        }
      ]
    },
    {
      "cell_type": "code",
      "source": [
        "data = data.dropna()\n",
        "data = data.drop_duplicates()"
      ],
      "metadata": {
        "id": "6cTe0lBUDfSi"
      },
      "execution_count": null,
      "outputs": []
    },
    {
      "cell_type": "code",
      "source": [
        "data.describe()"
      ],
      "metadata": {
        "colab": {
          "base_uri": "https://localhost:8080/",
          "height": 364
        },
        "id": "cYHsjXSQDmM7",
        "outputId": "dc2413aa-37da-437e-9852-7d18ace0af63"
      },
      "execution_count": null,
      "outputs": [
        {
          "output_type": "execute_result",
          "data": {
            "text/plain": [
              "                LB         AC.1         FM.1         UC.1         DL.1  \\\n",
              "count  2115.000000  2115.000000  2115.000000  2115.000000  2115.000000   \n",
              "mean    133.301655     0.003178     0.009501     0.004375     0.001894   \n",
              "std       9.836399     0.003864     0.046787     0.002935     0.002967   \n",
              "min     106.000000     0.000000     0.000000     0.000000     0.000000   \n",
              "25%     126.000000     0.000000     0.000000     0.001919     0.000000   \n",
              "50%     133.000000     0.001637     0.000000     0.004505     0.000000   \n",
              "75%     140.000000     0.005650     0.002502     0.006536     0.003283   \n",
              "max     160.000000     0.019284     0.480634     0.014925     0.015385   \n",
              "\n",
              "              DS.1         DP.1         ASTV         MSTV         ALTV  \\\n",
              "count  2115.000000  2115.000000  2115.000000  2115.000000  2115.000000   \n",
              "mean      0.000004     0.000157    46.977778     1.335035     9.789598   \n",
              "std       0.000063     0.000581    17.180933     0.884111    18.329675   \n",
              "min       0.000000     0.000000    12.000000     0.200000     0.000000   \n",
              "25%       0.000000     0.000000    32.000000     0.700000     0.000000   \n",
              "50%       0.000000     0.000000    49.000000     1.200000     0.000000   \n",
              "75%       0.000000     0.000000    61.000000     1.700000    11.000000   \n",
              "max       0.001353     0.005348    87.000000     7.000000    91.000000   \n",
              "\n",
              "              MLTV        Width          Min          Max         Nmax  \\\n",
              "count  2115.000000  2115.000000  2115.000000  2115.000000  2115.000000   \n",
              "mean      8.170922    70.511111    93.574468   164.085579     4.075650   \n",
              "std       5.632455    38.997589    29.550040    17.943983     2.951027   \n",
              "min       0.000000     3.000000    50.000000   122.000000     0.000000   \n",
              "25%       4.600000    37.000000    67.000000   152.000000     2.000000   \n",
              "50%       7.400000    68.000000    93.000000   162.000000     4.000000   \n",
              "75%      10.800000   100.000000   120.000000   174.000000     6.000000   \n",
              "max      50.700000   180.000000   159.000000   238.000000    18.000000   \n",
              "\n",
              "            Nzeros         Mode         Mean       Median     Variance  \\\n",
              "count  2115.000000  2115.000000  2115.000000  2115.000000  2115.000000   \n",
              "mean      0.325296   137.448227   134.596217   138.084161    18.891726   \n",
              "std       0.707507    16.398956    15.607096    14.476729    29.029413   \n",
              "min       0.000000    60.000000    73.000000    77.000000     0.000000   \n",
              "25%       0.000000   129.000000   125.000000   129.000000     2.000000   \n",
              "50%       0.000000   139.000000   136.000000   139.000000     7.000000   \n",
              "75%       0.000000   148.000000   145.000000   148.000000    24.000000   \n",
              "max      10.000000   187.000000   182.000000   186.000000   269.000000   \n",
              "\n",
              "          Tendency        CLASS          NSP  \n",
              "count  2115.000000  2115.000000  2115.000000  \n",
              "mean      0.318676     4.507801     1.303546  \n",
              "std       0.611005     3.022826     0.614059  \n",
              "min      -1.000000     1.000000     1.000000  \n",
              "25%       0.000000     2.000000     1.000000  \n",
              "50%       0.000000     4.000000     1.000000  \n",
              "75%       1.000000     7.000000     1.000000  \n",
              "max       1.000000    10.000000     3.000000  "
            ],
            "text/html": [
              "\n",
              "  <div id=\"df-07ae3e49-2440-42f7-a547-093d4405fbde\">\n",
              "    <div class=\"colab-df-container\">\n",
              "      <div>\n",
              "<style scoped>\n",
              "    .dataframe tbody tr th:only-of-type {\n",
              "        vertical-align: middle;\n",
              "    }\n",
              "\n",
              "    .dataframe tbody tr th {\n",
              "        vertical-align: top;\n",
              "    }\n",
              "\n",
              "    .dataframe thead th {\n",
              "        text-align: right;\n",
              "    }\n",
              "</style>\n",
              "<table border=\"1\" class=\"dataframe\">\n",
              "  <thead>\n",
              "    <tr style=\"text-align: right;\">\n",
              "      <th></th>\n",
              "      <th>LB</th>\n",
              "      <th>AC.1</th>\n",
              "      <th>FM.1</th>\n",
              "      <th>UC.1</th>\n",
              "      <th>DL.1</th>\n",
              "      <th>DS.1</th>\n",
              "      <th>DP.1</th>\n",
              "      <th>ASTV</th>\n",
              "      <th>MSTV</th>\n",
              "      <th>ALTV</th>\n",
              "      <th>MLTV</th>\n",
              "      <th>Width</th>\n",
              "      <th>Min</th>\n",
              "      <th>Max</th>\n",
              "      <th>Nmax</th>\n",
              "      <th>Nzeros</th>\n",
              "      <th>Mode</th>\n",
              "      <th>Mean</th>\n",
              "      <th>Median</th>\n",
              "      <th>Variance</th>\n",
              "      <th>Tendency</th>\n",
              "      <th>CLASS</th>\n",
              "      <th>NSP</th>\n",
              "    </tr>\n",
              "  </thead>\n",
              "  <tbody>\n",
              "    <tr>\n",
              "      <th>count</th>\n",
              "      <td>2115.000000</td>\n",
              "      <td>2115.000000</td>\n",
              "      <td>2115.000000</td>\n",
              "      <td>2115.000000</td>\n",
              "      <td>2115.000000</td>\n",
              "      <td>2115.000000</td>\n",
              "      <td>2115.000000</td>\n",
              "      <td>2115.000000</td>\n",
              "      <td>2115.000000</td>\n",
              "      <td>2115.000000</td>\n",
              "      <td>2115.000000</td>\n",
              "      <td>2115.000000</td>\n",
              "      <td>2115.000000</td>\n",
              "      <td>2115.000000</td>\n",
              "      <td>2115.000000</td>\n",
              "      <td>2115.000000</td>\n",
              "      <td>2115.000000</td>\n",
              "      <td>2115.000000</td>\n",
              "      <td>2115.000000</td>\n",
              "      <td>2115.000000</td>\n",
              "      <td>2115.000000</td>\n",
              "      <td>2115.000000</td>\n",
              "      <td>2115.000000</td>\n",
              "    </tr>\n",
              "    <tr>\n",
              "      <th>mean</th>\n",
              "      <td>133.301655</td>\n",
              "      <td>0.003178</td>\n",
              "      <td>0.009501</td>\n",
              "      <td>0.004375</td>\n",
              "      <td>0.001894</td>\n",
              "      <td>0.000004</td>\n",
              "      <td>0.000157</td>\n",
              "      <td>46.977778</td>\n",
              "      <td>1.335035</td>\n",
              "      <td>9.789598</td>\n",
              "      <td>8.170922</td>\n",
              "      <td>70.511111</td>\n",
              "      <td>93.574468</td>\n",
              "      <td>164.085579</td>\n",
              "      <td>4.075650</td>\n",
              "      <td>0.325296</td>\n",
              "      <td>137.448227</td>\n",
              "      <td>134.596217</td>\n",
              "      <td>138.084161</td>\n",
              "      <td>18.891726</td>\n",
              "      <td>0.318676</td>\n",
              "      <td>4.507801</td>\n",
              "      <td>1.303546</td>\n",
              "    </tr>\n",
              "    <tr>\n",
              "      <th>std</th>\n",
              "      <td>9.836399</td>\n",
              "      <td>0.003864</td>\n",
              "      <td>0.046787</td>\n",
              "      <td>0.002935</td>\n",
              "      <td>0.002967</td>\n",
              "      <td>0.000063</td>\n",
              "      <td>0.000581</td>\n",
              "      <td>17.180933</td>\n",
              "      <td>0.884111</td>\n",
              "      <td>18.329675</td>\n",
              "      <td>5.632455</td>\n",
              "      <td>38.997589</td>\n",
              "      <td>29.550040</td>\n",
              "      <td>17.943983</td>\n",
              "      <td>2.951027</td>\n",
              "      <td>0.707507</td>\n",
              "      <td>16.398956</td>\n",
              "      <td>15.607096</td>\n",
              "      <td>14.476729</td>\n",
              "      <td>29.029413</td>\n",
              "      <td>0.611005</td>\n",
              "      <td>3.022826</td>\n",
              "      <td>0.614059</td>\n",
              "    </tr>\n",
              "    <tr>\n",
              "      <th>min</th>\n",
              "      <td>106.000000</td>\n",
              "      <td>0.000000</td>\n",
              "      <td>0.000000</td>\n",
              "      <td>0.000000</td>\n",
              "      <td>0.000000</td>\n",
              "      <td>0.000000</td>\n",
              "      <td>0.000000</td>\n",
              "      <td>12.000000</td>\n",
              "      <td>0.200000</td>\n",
              "      <td>0.000000</td>\n",
              "      <td>0.000000</td>\n",
              "      <td>3.000000</td>\n",
              "      <td>50.000000</td>\n",
              "      <td>122.000000</td>\n",
              "      <td>0.000000</td>\n",
              "      <td>0.000000</td>\n",
              "      <td>60.000000</td>\n",
              "      <td>73.000000</td>\n",
              "      <td>77.000000</td>\n",
              "      <td>0.000000</td>\n",
              "      <td>-1.000000</td>\n",
              "      <td>1.000000</td>\n",
              "      <td>1.000000</td>\n",
              "    </tr>\n",
              "    <tr>\n",
              "      <th>25%</th>\n",
              "      <td>126.000000</td>\n",
              "      <td>0.000000</td>\n",
              "      <td>0.000000</td>\n",
              "      <td>0.001919</td>\n",
              "      <td>0.000000</td>\n",
              "      <td>0.000000</td>\n",
              "      <td>0.000000</td>\n",
              "      <td>32.000000</td>\n",
              "      <td>0.700000</td>\n",
              "      <td>0.000000</td>\n",
              "      <td>4.600000</td>\n",
              "      <td>37.000000</td>\n",
              "      <td>67.000000</td>\n",
              "      <td>152.000000</td>\n",
              "      <td>2.000000</td>\n",
              "      <td>0.000000</td>\n",
              "      <td>129.000000</td>\n",
              "      <td>125.000000</td>\n",
              "      <td>129.000000</td>\n",
              "      <td>2.000000</td>\n",
              "      <td>0.000000</td>\n",
              "      <td>2.000000</td>\n",
              "      <td>1.000000</td>\n",
              "    </tr>\n",
              "    <tr>\n",
              "      <th>50%</th>\n",
              "      <td>133.000000</td>\n",
              "      <td>0.001637</td>\n",
              "      <td>0.000000</td>\n",
              "      <td>0.004505</td>\n",
              "      <td>0.000000</td>\n",
              "      <td>0.000000</td>\n",
              "      <td>0.000000</td>\n",
              "      <td>49.000000</td>\n",
              "      <td>1.200000</td>\n",
              "      <td>0.000000</td>\n",
              "      <td>7.400000</td>\n",
              "      <td>68.000000</td>\n",
              "      <td>93.000000</td>\n",
              "      <td>162.000000</td>\n",
              "      <td>4.000000</td>\n",
              "      <td>0.000000</td>\n",
              "      <td>139.000000</td>\n",
              "      <td>136.000000</td>\n",
              "      <td>139.000000</td>\n",
              "      <td>7.000000</td>\n",
              "      <td>0.000000</td>\n",
              "      <td>4.000000</td>\n",
              "      <td>1.000000</td>\n",
              "    </tr>\n",
              "    <tr>\n",
              "      <th>75%</th>\n",
              "      <td>140.000000</td>\n",
              "      <td>0.005650</td>\n",
              "      <td>0.002502</td>\n",
              "      <td>0.006536</td>\n",
              "      <td>0.003283</td>\n",
              "      <td>0.000000</td>\n",
              "      <td>0.000000</td>\n",
              "      <td>61.000000</td>\n",
              "      <td>1.700000</td>\n",
              "      <td>11.000000</td>\n",
              "      <td>10.800000</td>\n",
              "      <td>100.000000</td>\n",
              "      <td>120.000000</td>\n",
              "      <td>174.000000</td>\n",
              "      <td>6.000000</td>\n",
              "      <td>0.000000</td>\n",
              "      <td>148.000000</td>\n",
              "      <td>145.000000</td>\n",
              "      <td>148.000000</td>\n",
              "      <td>24.000000</td>\n",
              "      <td>1.000000</td>\n",
              "      <td>7.000000</td>\n",
              "      <td>1.000000</td>\n",
              "    </tr>\n",
              "    <tr>\n",
              "      <th>max</th>\n",
              "      <td>160.000000</td>\n",
              "      <td>0.019284</td>\n",
              "      <td>0.480634</td>\n",
              "      <td>0.014925</td>\n",
              "      <td>0.015385</td>\n",
              "      <td>0.001353</td>\n",
              "      <td>0.005348</td>\n",
              "      <td>87.000000</td>\n",
              "      <td>7.000000</td>\n",
              "      <td>91.000000</td>\n",
              "      <td>50.700000</td>\n",
              "      <td>180.000000</td>\n",
              "      <td>159.000000</td>\n",
              "      <td>238.000000</td>\n",
              "      <td>18.000000</td>\n",
              "      <td>10.000000</td>\n",
              "      <td>187.000000</td>\n",
              "      <td>182.000000</td>\n",
              "      <td>186.000000</td>\n",
              "      <td>269.000000</td>\n",
              "      <td>1.000000</td>\n",
              "      <td>10.000000</td>\n",
              "      <td>3.000000</td>\n",
              "    </tr>\n",
              "  </tbody>\n",
              "</table>\n",
              "</div>\n",
              "      <button class=\"colab-df-convert\" onclick=\"convertToInteractive('df-07ae3e49-2440-42f7-a547-093d4405fbde')\"\n",
              "              title=\"Convert this dataframe to an interactive table.\"\n",
              "              style=\"display:none;\">\n",
              "        \n",
              "  <svg xmlns=\"http://www.w3.org/2000/svg\" height=\"24px\"viewBox=\"0 0 24 24\"\n",
              "       width=\"24px\">\n",
              "    <path d=\"M0 0h24v24H0V0z\" fill=\"none\"/>\n",
              "    <path d=\"M18.56 5.44l.94 2.06.94-2.06 2.06-.94-2.06-.94-.94-2.06-.94 2.06-2.06.94zm-11 1L8.5 8.5l.94-2.06 2.06-.94-2.06-.94L8.5 2.5l-.94 2.06-2.06.94zm10 10l.94 2.06.94-2.06 2.06-.94-2.06-.94-.94-2.06-.94 2.06-2.06.94z\"/><path d=\"M17.41 7.96l-1.37-1.37c-.4-.4-.92-.59-1.43-.59-.52 0-1.04.2-1.43.59L10.3 9.45l-7.72 7.72c-.78.78-.78 2.05 0 2.83L4 21.41c.39.39.9.59 1.41.59.51 0 1.02-.2 1.41-.59l7.78-7.78 2.81-2.81c.8-.78.8-2.07 0-2.86zM5.41 20L4 18.59l7.72-7.72 1.47 1.35L5.41 20z\"/>\n",
              "  </svg>\n",
              "      </button>\n",
              "      \n",
              "  <style>\n",
              "    .colab-df-container {\n",
              "      display:flex;\n",
              "      flex-wrap:wrap;\n",
              "      gap: 12px;\n",
              "    }\n",
              "\n",
              "    .colab-df-convert {\n",
              "      background-color: #E8F0FE;\n",
              "      border: none;\n",
              "      border-radius: 50%;\n",
              "      cursor: pointer;\n",
              "      display: none;\n",
              "      fill: #1967D2;\n",
              "      height: 32px;\n",
              "      padding: 0 0 0 0;\n",
              "      width: 32px;\n",
              "    }\n",
              "\n",
              "    .colab-df-convert:hover {\n",
              "      background-color: #E2EBFA;\n",
              "      box-shadow: 0px 1px 2px rgba(60, 64, 67, 0.3), 0px 1px 3px 1px rgba(60, 64, 67, 0.15);\n",
              "      fill: #174EA6;\n",
              "    }\n",
              "\n",
              "    [theme=dark] .colab-df-convert {\n",
              "      background-color: #3B4455;\n",
              "      fill: #D2E3FC;\n",
              "    }\n",
              "\n",
              "    [theme=dark] .colab-df-convert:hover {\n",
              "      background-color: #434B5C;\n",
              "      box-shadow: 0px 1px 3px 1px rgba(0, 0, 0, 0.15);\n",
              "      filter: drop-shadow(0px 1px 2px rgba(0, 0, 0, 0.3));\n",
              "      fill: #FFFFFF;\n",
              "    }\n",
              "  </style>\n",
              "\n",
              "      <script>\n",
              "        const buttonEl =\n",
              "          document.querySelector('#df-07ae3e49-2440-42f7-a547-093d4405fbde button.colab-df-convert');\n",
              "        buttonEl.style.display =\n",
              "          google.colab.kernel.accessAllowed ? 'block' : 'none';\n",
              "\n",
              "        async function convertToInteractive(key) {\n",
              "          const element = document.querySelector('#df-07ae3e49-2440-42f7-a547-093d4405fbde');\n",
              "          const dataTable =\n",
              "            await google.colab.kernel.invokeFunction('convertToInteractive',\n",
              "                                                     [key], {});\n",
              "          if (!dataTable) return;\n",
              "\n",
              "          const docLinkHtml = 'Like what you see? Visit the ' +\n",
              "            '<a target=\"_blank\" href=https://colab.research.google.com/notebooks/data_table.ipynb>data table notebook</a>'\n",
              "            + ' to learn more about interactive tables.';\n",
              "          element.innerHTML = '';\n",
              "          dataTable['output_type'] = 'display_data';\n",
              "          await google.colab.output.renderOutput(dataTable, element);\n",
              "          const docLink = document.createElement('div');\n",
              "          docLink.innerHTML = docLinkHtml;\n",
              "          element.appendChild(docLink);\n",
              "        }\n",
              "      </script>\n",
              "    </div>\n",
              "  </div>\n",
              "  "
            ]
          },
          "metadata": {},
          "execution_count": 15
        }
      ]
    },
    {
      "cell_type": "code",
      "source": [
        "data.shape"
      ],
      "metadata": {
        "colab": {
          "base_uri": "https://localhost:8080/"
        },
        "id": "z6jzP0ijDpAA",
        "outputId": "34640bb4-fdf0-444d-c91d-b7ad55a1b9d7"
      },
      "execution_count": null,
      "outputs": [
        {
          "output_type": "execute_result",
          "data": {
            "text/plain": [
              "(2115, 23)"
            ]
          },
          "metadata": {},
          "execution_count": 16
        }
      ]
    },
    {
      "cell_type": "markdown",
      "source": [
        "### Data Visualization"
      ],
      "metadata": {
        "id": "Ia-soZ3yLCD3"
      }
    },
    {
      "cell_type": "code",
      "source": [
        "fig=plt.figure(figsize=(12,8))\n",
        "sns.heatmap(data.corr(), annot=True)"
      ],
      "metadata": {
        "colab": {
          "base_uri": "https://localhost:8080/",
          "height": 541
        },
        "id": "Cu78iHaCLET9",
        "outputId": "c8d48c7a-895b-402a-e063-3df5622707ef"
      },
      "execution_count": null,
      "outputs": [
        {
          "output_type": "execute_result",
          "data": {
            "text/plain": [
              "<matplotlib.axes._subplots.AxesSubplot at 0x7fc63d2ca220>"
            ]
          },
          "metadata": {},
          "execution_count": 33
        },
        {
          "output_type": "display_data",
          "data": {
            "text/plain": [
              "<Figure size 864x576 with 2 Axes>"
            ],
            "image/png": "[encoded data removed]"
          },
          "metadata": {
            "needs_background": "light"
          }
        }
      ]
    },
    {
      "cell_type": "code",
      "source": [
        "#Histogram of the fetal Heart Rate\n",
        "fig=plt.figure(figsize=(10,5))\n",
        "plt.hist(data['LB'], bins=15)\n"
      ],
      "metadata": {
        "colab": {
          "base_uri": "https://localhost:8080/",
          "height": 407
        },
        "id": "DIzHz9JqLJBJ",
        "outputId": "f04e8d67-a7e7-4259-b531-c4752a48bdd0"
      },
      "execution_count": null,
      "outputs": [
        {
          "output_type": "execute_result",
          "data": {
            "text/plain": [
              "(array([  7.,  37.,  44., 106., 204., 199., 309., 279., 298., 147., 245.,\n",
              "        144.,  57.,  12.,  27.]),\n",
              " array([106. , 109.6, 113.2, 116.8, 120.4, 124. , 127.6, 131.2, 134.8,\n",
              "        138.4, 142. , 145.6, 149.2, 152.8, 156.4, 160. ]),\n",
              " <a list of 15 Patch objects>)"
            ]
          },
          "metadata": {},
          "execution_count": 39
        },
        {
          "output_type": "display_data",
          "data": {
            "text/plain": [
              "<Figure size 720x360 with 1 Axes>"
            ],
            "image/png": "[encoded data removed]"
          },
          "metadata": {
            "needs_background": "light"
          }
        }
      ]
    },
    {
      "cell_type": "code",
      "source": [
        "sns.distplot(data['LB'], bins=15, kde=True)"
      ],
      "metadata": {
        "colab": {
          "base_uri": "https://localhost:8080/",
          "height": 351
        },
        "id": "mbfy0nELNziR",
        "outputId": "f275cd5d-210d-4610-f2bf-7ab8e9cb42b7"
      },
      "execution_count": null,
      "outputs": [
        {
          "output_type": "stream",
          "name": "stderr",
          "text": [
            "/usr/local/lib/python3.8/dist-packages/seaborn/distributions.py:2619: FutureWarning: `distplot` is a deprecated function and will be removed in a future version. Please adapt your code to use either `displot` (a figure-level function with similar flexibility) or `histplot` (an axes-level function for histograms).\n",
            "  warnings.warn(msg, FutureWarning)\n"
          ]
        },
        {
          "output_type": "execute_result",
          "data": {
            "text/plain": [
              "<matplotlib.axes._subplots.AxesSubplot at 0x7fc63c47dcd0>"
            ]
          },
          "metadata": {},
          "execution_count": 40
        },
        {
          "output_type": "display_data",
          "data": {
            "text/plain": [
              "<Figure size 432x288 with 1 Axes>"
            ],
            "image/png": "[encoded data removed]"
          },
          "metadata": {
            "needs_background": "light"
          }
        }
      ]
    },
    {
      "cell_type": "code",
      "source": [
        "#Histogram of the Uterine contraction\n",
        "fig=plt.figure(figsize=(10,5))\n",
        "plt.hist(data['UC.1'], bins=10)"
      ],
      "metadata": {
        "colab": {
          "base_uri": "https://localhost:8080/",
          "height": 407
        },
        "id": "IcHE-wTUOOFy",
        "outputId": "5ee78db1-ab6a-44f8-97e4-cb99a422a71e"
      },
      "execution_count": null,
      "outputs": [
        {
          "output_type": "execute_result",
          "data": {
            "text/plain": [
              "(array([441., 260., 348., 412., 324., 209.,  85.,  28.,   5.,   3.]),\n",
              " array([0.        , 0.00149254, 0.00298507, 0.00447761, 0.00597015,\n",
              "        0.00746269, 0.00895522, 0.01044776, 0.0119403 , 0.01343284,\n",
              "        0.01492537]),\n",
              " <a list of 10 Patch objects>)"
            ]
          },
          "metadata": {},
          "execution_count": 42
        },
        {
          "output_type": "display_data",
          "data": {
            "text/plain": [
              "<Figure size 720x360 with 1 Axes>"
            ],
            "image/png": "[encoded data removed]"
          },
          "metadata": {
            "needs_background": "light"
          }
        }
      ]
    },
    {
      "cell_type": "code",
      "source": [
        "sns.jointplot(data=data, x='LB', y='UC.1')"
      ],
      "metadata": {
        "colab": {
          "base_uri": "https://localhost:8080/",
          "height": 458
        },
        "id": "wNbz8112OnrT",
        "outputId": "50bbfb35-0d73-43b1-9ab1-76dfacb1d455"
      },
      "execution_count": null,
      "outputs": [
        {
          "output_type": "execute_result",
          "data": {
            "text/plain": [
              "<seaborn.axisgrid.JointGrid at 0x7fc63c085e80>"
            ]
          },
          "metadata": {},
          "execution_count": 44
        },
        {
          "output_type": "display_data",
          "data": {
            "text/plain": [
              "<Figure size 432x432 with 3 Axes>"
            ],
            "image/png": "[encoded data removed]"
          },
          "metadata": {
            "needs_background": "light"
          }
        }
      ]
    },
    {
      "cell_type": "code",
      "source": [],
      "metadata": {
        "id": "Np9LLbsaO6xJ"
      },
      "execution_count": null,
      "outputs": []
    },
    {
      "cell_type": "markdown",
      "source": [
        "### Prepare the data"
      ],
      "metadata": {
        "id": "0HujfXgiPVUG"
      }
    },
    {
      "cell_type": "code",
      "source": [
        "X=data.drop('NSP', axis=1)\n",
        "y=data['NSP']"
      ],
      "metadata": {
        "id": "aoKyHXESPWZT"
      },
      "execution_count": null,
      "outputs": []
    },
    {
      "cell_type": "markdown",
      "source": [
        "### Split the data"
      ],
      "metadata": {
        "id": "D7xg4-4cPrQX"
      }
    },
    {
      "cell_type": "code",
      "source": [
        "X_train, X_test, y_train, y_test = train_test_split(X, y, test_size=0.30, random_state=42)"
      ],
      "metadata": {
        "id": "XrWRy26yPsVr"
      },
      "execution_count": null,
      "outputs": []
    },
    {
      "cell_type": "code",
      "source": [
        "#scale the data\n",
        "scaler=StandardScaler()\n",
        "scaled_train=scaler.fit_transform(X_train)\n",
        "scaled_test=scaler.transform(X_test)"
      ],
      "metadata": {
        "id": "pOqAi85QP3VM"
      },
      "execution_count": null,
      "outputs": []
    },
    {
      "cell_type": "code",
      "source": [
        "X_train=pd.DataFrame(data=scaled_train, columns=X.columns)\n",
        "X_test=pd.DataFrame(data=scaled_test, columns=X.columns)"
      ],
      "metadata": {
        "id": "oIqL7yTLQJ1M"
      },
      "execution_count": null,
      "outputs": []
    },
    {
      "cell_type": "markdown",
      "source": [
        "### Tunning hyperparameters"
      ],
      "metadata": {
        "id": "HVVrhxblRVSe"
      }
    },
    {
      "cell_type": "code",
      "source": [
        "#Logestic Regression\n",
        "lgr_params={'C':[0.001, 0.01, 0.1, 1.0, 10.0],\n",
        "            'penalty':[\"l1\",\"l2\"]}\n",
        "\n",
        "#K nearest Neighbor Model\n",
        "knn_params={'n_neighbors':range(1,10,2),\n",
        "            'weights':['uniform','distance'],\n",
        "            'p':[1,2]}\n",
        "#Decision Tree\n",
        "dtree_params = {'max_depth':[2,4,6],\n",
        "                'min_samples_split':[0.1, 0.2, 0.05],\n",
        "                'criterion': ['gini','entropy'],\n",
        "                'min_samples_leaf':[1,2,3]}\n",
        "#Support Vector machine\n",
        "svc_params = {'kernel': ['rbf','linear','poly','sigmoid'],\n",
        "              'gamma': [0.1, 1.0,10.0],\n",
        "              'coef0':[0,1,2],\n",
        "              'degree':[2,3,4]}"
      ],
      "metadata": {
        "id": "1JeBgZqoRV8j"
      },
      "execution_count": null,
      "outputs": []
    },
    {
      "cell_type": "markdown",
      "source": [
        "### Results of individual Models"
      ],
      "metadata": {
        "id": "TXmmY-4rZHZI"
      }
    },
    {
      "cell_type": "code",
      "source": [
        "#Logestic Regression\n",
        "start_time=time.time()\n",
        "lgr_model=GridSearchCV(estimator=LogisticRegression(max_iter=10000,solver= 'liblinear'),param_grid=lgr_params, cv=5)\n",
        "lgr_model.fit(X_train,y_train)\n",
        "end_time=time.time()\n",
        "print(end_time-start_time)"
      ],
      "metadata": {
        "colab": {
          "base_uri": "https://localhost:8080/"
        },
        "id": "8wHfsOxEZDaw",
        "outputId": "65f4d61f-a023-4c9e-e304-0f50842eb4cb"
      },
      "execution_count": null,
      "outputs": [
        {
          "output_type": "stream",
          "name": "stdout",
          "text": [
            "0.4897654056549072\n"
          ]
        }
      ]
    },
    {
      "cell_type": "code",
      "source": [
        "lgr_model.best_params_"
      ],
      "metadata": {
        "colab": {
          "base_uri": "https://localhost:8080/"
        },
        "id": "omvGFxMkaoru",
        "outputId": "9f0b683a-b0ab-4c8a-e3d0-d44b78dc290a"
      },
      "execution_count": null,
      "outputs": [
        {
          "output_type": "execute_result",
          "data": {
            "text/plain": [
              "{'C': 1.0}"
            ]
          },
          "metadata": {},
          "execution_count": 26
        }
      ]
    },
    {
      "cell_type": "code",
      "source": [
        "lgr_model.best_score_"
      ],
      "metadata": {
        "colab": {
          "base_uri": "https://localhost:8080/"
        },
        "id": "SyY8wGdqaohP",
        "outputId": "c072c3d6-bacc-4d24-a825-50b61e742e5e"
      },
      "execution_count": null,
      "outputs": [
        {
          "output_type": "execute_result",
          "data": {
            "text/plain": [
              "0.947972972972973"
            ]
          },
          "metadata": {},
          "execution_count": 27
        }
      ]
    },
    {
      "cell_type": "code",
      "source": [
        "lgr_train_accuracy_score=accuracy_score(lgr_model.predict(X_train),y_train)\n",
        "lgr_test_accuracy_score=accuracy_score(lgr_model.predict(X_test),y_test)"
      ],
      "metadata": {
        "id": "00VdKiYBdvOF"
      },
      "execution_count": null,
      "outputs": []
    },
    {
      "cell_type": "code",
      "source": [
        "#K nearest Neighbor Model\n",
        "start_time=time.time()\n",
        "knn_model=GridSearchCV(estimator=KNeighborsClassifier(),param_grid=knn_params, cv=5)\n",
        "knn_model.fit(X_train,y_train)\n",
        "end_time=time.time()\n",
        "print(end_time-start_time)"
      ],
      "metadata": {
        "colab": {
          "base_uri": "https://localhost:8080/"
        },
        "id": "YGv1e-XMa8uV",
        "outputId": "16c5c63b-03e4-4422-c07c-898eaeeb9746"
      },
      "execution_count": null,
      "outputs": [
        {
          "output_type": "stream",
          "name": "stdout",
          "text": [
            "2.6976072788238525\n"
          ]
        }
      ]
    },
    {
      "cell_type": "code",
      "source": [
        "knn_model.best_params_"
      ],
      "metadata": {
        "colab": {
          "base_uri": "https://localhost:8080/"
        },
        "id": "0IkAz3S2bZgI",
        "outputId": "8a986625-4735-43d3-cee9-51e891826601"
      },
      "execution_count": null,
      "outputs": [
        {
          "output_type": "execute_result",
          "data": {
            "text/plain": [
              "{'n_neighbors': 3, 'p': 1, 'weights': 'distance'}"
            ]
          },
          "metadata": {},
          "execution_count": 29
        }
      ]
    },
    {
      "cell_type": "code",
      "source": [
        "knn_model.best_score_"
      ],
      "metadata": {
        "colab": {
          "base_uri": "https://localhost:8080/"
        },
        "id": "9Q8aulfqbZYz",
        "outputId": "f1675b1e-838a-431f-a0ac-11da00614733"
      },
      "execution_count": null,
      "outputs": [
        {
          "output_type": "execute_result",
          "data": {
            "text/plain": [
              "0.9594594594594594"
            ]
          },
          "metadata": {},
          "execution_count": 31
        }
      ]
    },
    {
      "cell_type": "code",
      "source": [
        "knn_train_accuracy_score=accuracy_score(knn_model.predict(X_train),y_train)\n",
        "knn_test_accuracy_score=accuracy_score(knn_model.predict(X_test),y_test)"
      ],
      "metadata": {
        "id": "kwuDZ1IMdx0V"
      },
      "execution_count": null,
      "outputs": []
    },
    {
      "cell_type": "code",
      "source": [
        "#Decision Tree\n",
        "start_time=time.time()\n",
        "dtree_model=GridSearchCV(estimator=DecisionTreeClassifier(),param_grid=dtree_params, cv=5)\n",
        "dtree_model.fit(X_train,y_train)\n",
        "end_time=time.time()\n",
        "print(end_time-start_time)"
      ],
      "metadata": {
        "colab": {
          "base_uri": "https://localhost:8080/"
        },
        "id": "BFrazpP9bgUr",
        "outputId": "0ed53165-39ef-4aff-f159-e0ce2e287b90"
      },
      "execution_count": null,
      "outputs": [
        {
          "output_type": "stream",
          "name": "stdout",
          "text": [
            "2.3502724170684814\n"
          ]
        }
      ]
    },
    {
      "cell_type": "code",
      "source": [
        "dtree_model.best_params_"
      ],
      "metadata": {
        "colab": {
          "base_uri": "https://localhost:8080/"
        },
        "id": "YD_-H0Z-b9zm",
        "outputId": "c3f2c552-cc8a-44c1-bc91-5c303e85cb0b"
      },
      "execution_count": null,
      "outputs": [
        {
          "output_type": "execute_result",
          "data": {
            "text/plain": [
              "{'criterion': 'entropy',\n",
              " 'max_depth': 4,\n",
              " 'min_samples_leaf': 1,\n",
              " 'min_samples_split': 0.1}"
            ]
          },
          "metadata": {},
          "execution_count": 33
        }
      ]
    },
    {
      "cell_type": "code",
      "source": [
        "dtree_model.best_score_"
      ],
      "metadata": {
        "colab": {
          "base_uri": "https://localhost:8080/"
        },
        "id": "Cj4SRxc7cAku",
        "outputId": "a0d57f70-46cc-47a8-e7a3-430d32f47ee9"
      },
      "execution_count": null,
      "outputs": [
        {
          "output_type": "execute_result",
          "data": {
            "text/plain": [
              "0.9824324324324325"
            ]
          },
          "metadata": {},
          "execution_count": 34
        }
      ]
    },
    {
      "cell_type": "code",
      "source": [
        "dtree_train_accuracy_score=accuracy_score(dtree_model.predict(X_train),y_train)\n",
        "dtree_test_accuracy_score=accuracy_score(dtree_model.predict(X_test),y_test)"
      ],
      "metadata": {
        "id": "7CKEqyNsd6Bo"
      },
      "execution_count": null,
      "outputs": []
    },
    {
      "cell_type": "code",
      "source": [
        "#Support Vector machine\n",
        "start_time=time.time()\n",
        "svc_model=GridSearchCV(estimator=SVC(),param_grid=svc_params, cv=5)\n",
        "svc_model.fit(X_train,y_train)\n",
        "end_time=time.time()\n",
        "print(end_time-start_time)"
      ],
      "metadata": {
        "colab": {
          "base_uri": "https://localhost:8080/"
        },
        "id": "fN198zp3cHUd",
        "outputId": "4721063b-7c48-499f-f334-43743ff17e1f"
      },
      "execution_count": null,
      "outputs": [
        {
          "output_type": "stream",
          "name": "stdout",
          "text": [
            "37.825918674468994\n"
          ]
        }
      ]
    },
    {
      "cell_type": "code",
      "source": [
        "svc_model.best_params_"
      ],
      "metadata": {
        "colab": {
          "base_uri": "https://localhost:8080/"
        },
        "id": "JOQwD9EpclO3",
        "outputId": "4e41cfcd-5d93-4dd5-ad0c-850a540eddc1"
      },
      "execution_count": null,
      "outputs": [
        {
          "output_type": "execute_result",
          "data": {
            "text/plain": [
              "{'coef0': 2, 'degree': 3, 'gamma': 0.1, 'kernel': 'poly'}"
            ]
          },
          "metadata": {},
          "execution_count": 36
        }
      ]
    },
    {
      "cell_type": "code",
      "source": [
        "svc_model.best_score_"
      ],
      "metadata": {
        "colab": {
          "base_uri": "https://localhost:8080/"
        },
        "id": "Z6EUjYrTcnqP",
        "outputId": "50b7ea1a-8691-49e0-8a09-4890db809219"
      },
      "execution_count": null,
      "outputs": [
        {
          "output_type": "execute_result",
          "data": {
            "text/plain": [
              "0.970945945945946"
            ]
          },
          "metadata": {},
          "execution_count": 37
        }
      ]
    },
    {
      "cell_type": "code",
      "source": [
        "svc_train_accuracy_score=accuracy_score(svc_model.predict(X_train),y_train)\n",
        "svc_test_accuracy_score=accuracy_score(svc_model.predict(X_test),y_test)"
      ],
      "metadata": {
        "id": "IMIq9J5kdTLz"
      },
      "execution_count": null,
      "outputs": []
    },
    {
      "cell_type": "code",
      "source": [
        "pd.DataFrame({'model':['LGR','KNN','DTree','SVM'],\n",
        "              'train_score':[lgr_train_accuracy_score,knn_train_accuracy_score,dtree_train_accuracy_score,svc_train_accuracy_score],\n",
        "              'test_score':[lgr_test_accuracy_score,knn_test_accuracy_score,dtree_test_accuracy_score,svc_test_accuracy_score],\n",
        "              'average_fit_time':['0.4897654056549072 sec','2.6976072788238525 sec','2.3502724170684814 sec','37.825918674468994 sec']}).set_index('model')"
      ],
      "metadata": {
        "colab": {
          "base_uri": "https://localhost:8080/",
          "height": 206
        },
        "id": "0n26yG7VcsDA",
        "outputId": "45931e94-0230-40b6-e1f2-95883717bb34"
      },
      "execution_count": null,
      "outputs": [
        {
          "output_type": "execute_result",
          "data": {
            "text/plain": [
              "       train_score  test_score        average_fit_time\n",
              "model                                                 \n",
              "LGR       0.959459    0.957480  0.4897654056549072 sec\n",
              "KNN       1.000000    0.966929  2.6976072788238525 sec\n",
              "DTree     0.983108    0.985827  2.3502724170684814 sec\n",
              "SVM       0.995946    0.973228  37.825918674468994 sec"
            ],
            "text/html": [
              "\n",
              "  <div id=\"df-7993ccd0-7e1f-481a-a5e5-12031372541f\">\n",
              "    <div class=\"colab-df-container\">\n",
              "      <div>\n",
              "<style scoped>\n",
              "    .dataframe tbody tr th:only-of-type {\n",
              "        vertical-align: middle;\n",
              "    }\n",
              "\n",
              "    .dataframe tbody tr th {\n",
              "        vertical-align: top;\n",
              "    }\n",
              "\n",
              "    .dataframe thead th {\n",
              "        text-align: right;\n",
              "    }\n",
              "</style>\n",
              "<table border=\"1\" class=\"dataframe\">\n",
              "  <thead>\n",
              "    <tr style=\"text-align: right;\">\n",
              "      <th></th>\n",
              "      <th>train_score</th>\n",
              "      <th>test_score</th>\n",
              "      <th>average_fit_time</th>\n",
              "    </tr>\n",
              "    <tr>\n",
              "      <th>model</th>\n",
              "      <th></th>\n",
              "      <th></th>\n",
              "      <th></th>\n",
              "    </tr>\n",
              "  </thead>\n",
              "  <tbody>\n",
              "    <tr>\n",
              "      <th>LGR</th>\n",
              "      <td>0.959459</td>\n",
              "      <td>0.957480</td>\n",
              "      <td>0.4897654056549072 sec</td>\n",
              "    </tr>\n",
              "    <tr>\n",
              "      <th>KNN</th>\n",
              "      <td>1.000000</td>\n",
              "      <td>0.966929</td>\n",
              "      <td>2.6976072788238525 sec</td>\n",
              "    </tr>\n",
              "    <tr>\n",
              "      <th>DTree</th>\n",
              "      <td>0.983108</td>\n",
              "      <td>0.985827</td>\n",
              "      <td>2.3502724170684814 sec</td>\n",
              "    </tr>\n",
              "    <tr>\n",
              "      <th>SVM</th>\n",
              "      <td>0.995946</td>\n",
              "      <td>0.973228</td>\n",
              "      <td>37.825918674468994 sec</td>\n",
              "    </tr>\n",
              "  </tbody>\n",
              "</table>\n",
              "</div>\n",
              "      <button class=\"colab-df-convert\" onclick=\"convertToInteractive('df-7993ccd0-7e1f-481a-a5e5-12031372541f')\"\n",
              "              title=\"Convert this dataframe to an interactive table.\"\n",
              "              style=\"display:none;\">\n",
              "        \n",
              "  <svg xmlns=\"http://www.w3.org/2000/svg\" height=\"24px\"viewBox=\"0 0 24 24\"\n",
              "       width=\"24px\">\n",
              "    <path d=\"M0 0h24v24H0V0z\" fill=\"none\"/>\n",
              "    <path d=\"M18.56 5.44l.94 2.06.94-2.06 2.06-.94-2.06-.94-.94-2.06-.94 2.06-2.06.94zm-11 1L8.5 8.5l.94-2.06 2.06-.94-2.06-.94L8.5 2.5l-.94 2.06-2.06.94zm10 10l.94 2.06.94-2.06 2.06-.94-2.06-.94-.94-2.06-.94 2.06-2.06.94z\"/><path d=\"M17.41 7.96l-1.37-1.37c-.4-.4-.92-.59-1.43-.59-.52 0-1.04.2-1.43.59L10.3 9.45l-7.72 7.72c-.78.78-.78 2.05 0 2.83L4 21.41c.39.39.9.59 1.41.59.51 0 1.02-.2 1.41-.59l7.78-7.78 2.81-2.81c.8-.78.8-2.07 0-2.86zM5.41 20L4 18.59l7.72-7.72 1.47 1.35L5.41 20z\"/>\n",
              "  </svg>\n",
              "      </button>\n",
              "      \n",
              "  <style>\n",
              "    .colab-df-container {\n",
              "      display:flex;\n",
              "      flex-wrap:wrap;\n",
              "      gap: 12px;\n",
              "    }\n",
              "\n",
              "    .colab-df-convert {\n",
              "      background-color: #E8F0FE;\n",
              "      border: none;\n",
              "      border-radius: 50%;\n",
              "      cursor: pointer;\n",
              "      display: none;\n",
              "      fill: #1967D2;\n",
              "      height: 32px;\n",
              "      padding: 0 0 0 0;\n",
              "      width: 32px;\n",
              "    }\n",
              "\n",
              "    .colab-df-convert:hover {\n",
              "      background-color: #E2EBFA;\n",
              "      box-shadow: 0px 1px 2px rgba(60, 64, 67, 0.3), 0px 1px 3px 1px rgba(60, 64, 67, 0.15);\n",
              "      fill: #174EA6;\n",
              "    }\n",
              "\n",
              "    [theme=dark] .colab-df-convert {\n",
              "      background-color: #3B4455;\n",
              "      fill: #D2E3FC;\n",
              "    }\n",
              "\n",
              "    [theme=dark] .colab-df-convert:hover {\n",
              "      background-color: #434B5C;\n",
              "      box-shadow: 0px 1px 3px 1px rgba(0, 0, 0, 0.15);\n",
              "      filter: drop-shadow(0px 1px 2px rgba(0, 0, 0, 0.3));\n",
              "      fill: #FFFFFF;\n",
              "    }\n",
              "  </style>\n",
              "\n",
              "      <script>\n",
              "        const buttonEl =\n",
              "          document.querySelector('#df-7993ccd0-7e1f-481a-a5e5-12031372541f button.colab-df-convert');\n",
              "        buttonEl.style.display =\n",
              "          google.colab.kernel.accessAllowed ? 'block' : 'none';\n",
              "\n",
              "        async function convertToInteractive(key) {\n",
              "          const element = document.querySelector('#df-7993ccd0-7e1f-481a-a5e5-12031372541f');\n",
              "          const dataTable =\n",
              "            await google.colab.kernel.invokeFunction('convertToInteractive',\n",
              "                                                     [key], {});\n",
              "          if (!dataTable) return;\n",
              "\n",
              "          const docLinkHtml = 'Like what you see? Visit the ' +\n",
              "            '<a target=\"_blank\" href=https://colab.research.google.com/notebooks/data_table.ipynb>data table notebook</a>'\n",
              "            + ' to learn more about interactive tables.';\n",
              "          element.innerHTML = '';\n",
              "          dataTable['output_type'] = 'display_data';\n",
              "          await google.colab.output.renderOutput(dataTable, element);\n",
              "          const docLink = document.createElement('div');\n",
              "          docLink.innerHTML = docLinkHtml;\n",
              "          element.appendChild(docLink);\n",
              "        }\n",
              "      </script>\n",
              "    </div>\n",
              "  </div>\n",
              "  "
            ]
          },
          "metadata": {},
          "execution_count": 47
        }
      ]
    },
    {
      "cell_type": "code",
      "source": [],
      "metadata": {
        "id": "TDr1H9F-e0yt"
      },
      "execution_count": null,
      "outputs": []
    },
    {
      "cell_type": "markdown",
      "source": [
        "# Ensemble Models"
      ],
      "metadata": {
        "id": "naEkaN5-fftK"
      }
    },
    {
      "cell_type": "code",
      "source": [
        "#simple classifier\n",
        "clf1 = LogisticRegression(random_state=1)\n",
        "clf2 = KNeighborsClassifier()\n",
        "clf3 = DecisionTreeClassifier()\n",
        "clf4=SVC()\n",
        "start_time=time.time()\n",
        "eclf = VotingClassifier(estimators=[('lr',clf1), ('knn',clf2), ('dtree',clf3),('svc',clf4)],voting='hard', verbose=False)\n",
        "eclf.fit(X_train,y_train)\n",
        "end_time=time.time()\n",
        "print(end_time-start_time)"
      ],
      "metadata": {
        "colab": {
          "base_uri": "https://localhost:8080/"
        },
        "id": "9hk8_rbvfhBr",
        "outputId": "bd280796-0630-40fc-f9f0-e7e0cabd7122"
      },
      "execution_count": null,
      "outputs": [
        {
          "output_type": "stream",
          "name": "stdout",
          "text": [
            "0.11763453483581543\n"
          ]
        }
      ]
    },
    {
      "cell_type": "code",
      "source": [
        "eclf.score(X_test,y_test)"
      ],
      "metadata": {
        "colab": {
          "base_uri": "https://localhost:8080/"
        },
        "id": "3VWVRD3whsOL",
        "outputId": "6c04b456-f481-4582-f784-d9d3c6f5d8fd"
      },
      "execution_count": null,
      "outputs": [
        {
          "output_type": "execute_result",
          "data": {
            "text/plain": [
              "0.9637795275590552"
            ]
          },
          "metadata": {},
          "execution_count": 50
        }
      ]
    },
    {
      "cell_type": "code",
      "source": [
        "for clf, label in zip([clf1, clf2, clf3, clf4,eclf], ['Logistic Regression', 'K Nearest Neighbor', 'Decision Tree','Support Vector machine','Ensemble']):\n",
        "    scores = cross_val_score(clf, X_train, y_train, scoring='accuracy', cv=5)\n",
        "    print(\"Accuracy: %0.2f (+/- %0.2f) [%s]\" % (scores.mean(), scores.std(), label))"
      ],
      "metadata": {
        "colab": {
          "base_uri": "https://localhost:8080/"
        },
        "id": "xOPq7HXqhwAt",
        "outputId": "95f05c67-9ab0-4c68-f319-8b9d757851cd"
      },
      "execution_count": null,
      "outputs": [
        {
          "output_type": "stream",
          "name": "stdout",
          "text": [
            "Accuracy: 0.95 (+/- 0.01) [Logistic Regression]\n",
            "Accuracy: 0.95 (+/- 0.01) [K Nearest Neighbor]\n",
            "Accuracy: 0.98 (+/- 0.01) [Decision Tree]\n",
            "Accuracy: 0.96 (+/- 0.01) [Support Vector machine]\n",
            "Accuracy: 0.96 (+/- 0.01) [Ensemble]\n"
          ]
        }
      ]
    },
    {
      "cell_type": "code",
      "source": [
        "#Using a soft voting\n",
        "clf1 = LogisticRegression(random_state=1)\n",
        "clf2 = KNeighborsClassifier()\n",
        "clf3 = DecisionTreeClassifier()\n",
        "clf4=SVC(probability=True)\n",
        "start_time=time.time()\n",
        "eclf = VotingClassifier(estimators=[('lr',clf1), ('knn',clf2), ('dtree',clf3),('svc',clf4)],voting='soft', verbose=False)\n",
        "eclf.fit(X_train,y_train)\n",
        "end_time=time.time()\n",
        "print(end_time-start_time)"
      ],
      "metadata": {
        "colab": {
          "base_uri": "https://localhost:8080/"
        },
        "id": "q0gZMDVzigGY",
        "outputId": "fba218ec-e3bd-4421-d3ab-84c8fbf79dc2"
      },
      "execution_count": null,
      "outputs": [
        {
          "output_type": "stream",
          "name": "stdout",
          "text": [
            "0.4310264587402344\n"
          ]
        }
      ]
    },
    {
      "cell_type": "code",
      "source": [
        "eclf.score(X_test,y_test)"
      ],
      "metadata": {
        "colab": {
          "base_uri": "https://localhost:8080/"
        },
        "id": "AsbqYWu7isYq",
        "outputId": "6672e836-8cbf-4101-daaf-40cbbabe7f40"
      },
      "execution_count": null,
      "outputs": [
        {
          "output_type": "execute_result",
          "data": {
            "text/plain": [
              "0.9826771653543307"
            ]
          },
          "metadata": {},
          "execution_count": 54
        }
      ]
    },
    {
      "cell_type": "code",
      "source": [
        "#Adding the weights\n",
        "clf1 = LogisticRegression(random_state=1)\n",
        "clf2 = KNeighborsClassifier()\n",
        "clf3 = DecisionTreeClassifier()\n",
        "clf4=SVC(probability=True)\n",
        "start_time=time.time()\n",
        "eclf = VotingClassifier(estimators=[('lr',clf1), ('knn',clf2), ('dtree',clf3),('svc',clf4)],voting='soft', weights=[0.5,0.5,1,1])\n",
        "eclf.fit(X_train,y_train)\n",
        "end_time=time.time()\n",
        "print(end_time-start_time)"
      ],
      "metadata": {
        "colab": {
          "base_uri": "https://localhost:8080/"
        },
        "id": "lKjw7VUFizAK",
        "outputId": "5ab25970-8ccc-4bd0-cde5-0e0df0d4e1b6"
      },
      "execution_count": null,
      "outputs": [
        {
          "output_type": "stream",
          "name": "stdout",
          "text": [
            "0.4118802547454834\n"
          ]
        }
      ]
    },
    {
      "cell_type": "code",
      "source": [
        "eclf.score(X_test,y_test)"
      ],
      "metadata": {
        "colab": {
          "base_uri": "https://localhost:8080/"
        },
        "id": "SCON9GDVjgzm",
        "outputId": "38d6c747-aaab-45ab-c8d0-81fde94b3c45"
      },
      "execution_count": null,
      "outputs": [
        {
          "output_type": "execute_result",
          "data": {
            "text/plain": [
              "0.9826771653543307"
            ]
          },
          "metadata": {},
          "execution_count": 63
        }
      ]
    },
    {
      "cell_type": "code",
      "source": [
        "eclfsimple_train_accuracy_score=accuracy_score(eclf.predict(X_train),y_train)\n",
        "eclfsimple_test_accuracy_score=accuracy_score(eclf.predict(X_test),y_test)"
      ],
      "metadata": {
        "id": "HooKlAR5kM0l"
      },
      "execution_count": null,
      "outputs": []
    },
    {
      "cell_type": "code",
      "source": [
        "#Using Bagging Techniques\n",
        "bclf_params={'n_estimators':[10,50,100],\n",
        "             'max_features':[1,2,3],\n",
        "             'base_estimator__max_depth':[2,3,4]}\n"
      ],
      "metadata": {
        "id": "NEpr4LaWkbZz"
      },
      "execution_count": null,
      "outputs": []
    },
    {
      "cell_type": "code",
      "source": [
        "start_time=time.time()\n",
        "bagclf=BaggingClassifier(base_estimator=DecisionTreeClassifier(),bootstrap=True)\n",
        "bclf=GridSearchCV(estimator=bagclf,param_grid=bclf_params)\n",
        "bclf.fit(X_train,y_train)\n",
        "end_time=time.time()\n",
        "print(end_time-start_time)"
      ],
      "metadata": {
        "colab": {
          "base_uri": "https://localhost:8080/"
        },
        "id": "DFv4t00nmbC4",
        "outputId": "f592067a-e2ed-438a-c237-93b6fd67e53e"
      },
      "execution_count": null,
      "outputs": [
        {
          "output_type": "stream",
          "name": "stdout",
          "text": [
            "15.811113119125366\n"
          ]
        }
      ]
    },
    {
      "cell_type": "code",
      "source": [
        "bclf.best_params_"
      ],
      "metadata": {
        "colab": {
          "base_uri": "https://localhost:8080/"
        },
        "id": "H43roKTLnlZP",
        "outputId": "9f2b3ea1-a56a-422e-bec1-6ca36abdaebf"
      },
      "execution_count": null,
      "outputs": [
        {
          "output_type": "execute_result",
          "data": {
            "text/plain": [
              "{'base_estimator__max_depth': 4, 'max_features': 3, 'n_estimators': 50}"
            ]
          },
          "metadata": {},
          "execution_count": 69
        }
      ]
    },
    {
      "cell_type": "code",
      "source": [
        "bclf.best_score_"
      ],
      "metadata": {
        "colab": {
          "base_uri": "https://localhost:8080/"
        },
        "id": "nL2pnpKTnoKl",
        "outputId": "a36daf24-12b7-412b-b0d8-1f049d5e38d6"
      },
      "execution_count": null,
      "outputs": [
        {
          "output_type": "execute_result",
          "data": {
            "text/plain": [
              "0.9067567567567568"
            ]
          },
          "metadata": {},
          "execution_count": 70
        }
      ]
    },
    {
      "cell_type": "code",
      "source": [
        "ebagging_train_accuracy_score=accuracy_score(bclf.predict(X_train),y_train)\n",
        "ebagging_test_accuracy_score=accuracy_score(bclf.predict(X_test),y_test)"
      ],
      "metadata": {
        "id": "RGcQbf7wsA9p"
      },
      "execution_count": null,
      "outputs": []
    },
    {
      "cell_type": "code",
      "source": [
        "#Random Forest method\n",
        "rfclf_params={'n_estimators':[50,100,200],\n",
        "              'max_depth':[2,4,6],\n",
        "              'min_samples_split':[1,2,3],\n",
        "              'criterion': ['gini','entropy'],\n",
        "              'min_samples_leaf':[1,2,3]}\n",
        "start_time=time.time()\n",
        "rfclassifier=RandomForestClassifier()\n",
        "rfclf=GridSearchCV(estimator=rfclassifier,param_grid=rfclf_params)\n",
        "rfclf.fit(X_train,y_train)\n",
        "end_time=time.time()\n",
        "print(end_time-start_time)"
      ],
      "metadata": {
        "colab": {
          "base_uri": "https://localhost:8080/"
        },
        "id": "0-QzC2MBnsUz",
        "outputId": "0db1089c-195d-4e03-a987-7a581a57a878"
      },
      "execution_count": null,
      "outputs": [
        {
          "output_type": "stream",
          "name": "stderr",
          "text": [
            "/usr/local/lib/python3.8/dist-packages/sklearn/model_selection/_validation.py:372: FitFailedWarning: \n",
            "270 fits failed out of a total of 810.\n",
            "The score on these train-test partitions for these parameters will be set to nan.\n",
            "If these failures are not expected, you can try to debug them by setting error_score='raise'.\n",
            "\n",
            "Below are more details about the failures:\n",
            "--------------------------------------------------------------------------------\n",
            "270 fits failed with the following error:\n",
            "Traceback (most recent call last):\n",
            "  File \"/usr/local/lib/python3.8/dist-packages/sklearn/model_selection/_validation.py\", line 680, in _fit_and_score\n",
            "    estimator.fit(X_train, y_train, **fit_params)\n",
            "  File \"/usr/local/lib/python3.8/dist-packages/sklearn/ensemble/_forest.py\", line 450, in fit\n",
            "    trees = Parallel(\n",
            "  File \"/usr/local/lib/python3.8/dist-packages/joblib/parallel.py\", line 1085, in __call__\n",
            "    if self.dispatch_one_batch(iterator):\n",
            "  File \"/usr/local/lib/python3.8/dist-packages/joblib/parallel.py\", line 901, in dispatch_one_batch\n",
            "    self._dispatch(tasks)\n",
            "  File \"/usr/local/lib/python3.8/dist-packages/joblib/parallel.py\", line 819, in _dispatch\n",
            "    job = self._backend.apply_async(batch, callback=cb)\n",
            "  File \"/usr/local/lib/python3.8/dist-packages/joblib/_parallel_backends.py\", line 208, in apply_async\n",
            "    result = ImmediateResult(func)\n",
            "  File \"/usr/local/lib/python3.8/dist-packages/joblib/_parallel_backends.py\", line 597, in __init__\n",
            "    self.results = batch()\n",
            "  File \"/usr/local/lib/python3.8/dist-packages/joblib/parallel.py\", line 288, in __call__\n",
            "    return [func(*args, **kwargs)\n",
            "  File \"/usr/local/lib/python3.8/dist-packages/joblib/parallel.py\", line 288, in <listcomp>\n",
            "    return [func(*args, **kwargs)\n",
            "  File \"/usr/local/lib/python3.8/dist-packages/sklearn/utils/fixes.py\", line 216, in __call__\n",
            "    return self.function(*args, **kwargs)\n",
            "  File \"/usr/local/lib/python3.8/dist-packages/sklearn/ensemble/_forest.py\", line 185, in _parallel_build_trees\n",
            "    tree.fit(X, y, sample_weight=curr_sample_weight, check_input=False)\n",
            "  File \"/usr/local/lib/python3.8/dist-packages/sklearn/tree/_classes.py\", line 937, in fit\n",
            "    super().fit(\n",
            "  File \"/usr/local/lib/python3.8/dist-packages/sklearn/tree/_classes.py\", line 250, in fit\n",
            "    raise ValueError(\n",
            "ValueError: min_samples_split must be an integer greater than 1 or a float in (0.0, 1.0]; got the integer 1\n",
            "\n",
            "  warnings.warn(some_fits_failed_message, FitFailedWarning)\n",
            "/usr/local/lib/python3.8/dist-packages/sklearn/model_selection/_search.py:969: UserWarning: One or more of the test scores are non-finite: [       nan        nan        nan 0.89932432 0.90135135 0.90675676\n",
            " 0.90135135 0.90608108 0.90405405        nan        nan        nan\n",
            " 0.90743243 0.90135135 0.89797297 0.9027027  0.89662162 0.90337838\n",
            "        nan        nan        nan 0.9027027  0.90067568 0.90608108\n",
            " 0.90608108 0.90810811 0.90202703        nan        nan        nan\n",
            " 0.95202703 0.94459459 0.94932432 0.94527027 0.94662162 0.9472973\n",
            "        nan        nan        nan 0.95       0.9472973  0.94662162\n",
            " 0.95067568 0.94594595 0.94594595        nan        nan        nan\n",
            " 0.94932432 0.94527027 0.9472973  0.94932432 0.94459459 0.9472973\n",
            "        nan        nan        nan 0.96554054 0.96689189 0.96689189\n",
            " 0.96689189 0.96959459 0.96756757        nan        nan        nan\n",
            " 0.96756757 0.96486486 0.96554054 0.96689189 0.96689189 0.96621622\n",
            "        nan        nan        nan 0.96554054 0.96554054 0.96689189\n",
            " 0.96824324 0.96621622 0.96486486        nan        nan        nan\n",
            " 0.9        0.90067568 0.90743243 0.90405405 0.90540541 0.9027027\n",
            "        nan        nan        nan 0.90472973 0.90405405 0.90608108\n",
            " 0.89662162 0.90608108 0.90405405        nan        nan        nan\n",
            " 0.90878378 0.90675676 0.89864865 0.9027027  0.89932432 0.90608108\n",
            "        nan        nan        nan 0.94864865 0.94527027 0.9472973\n",
            " 0.94864865 0.94459459 0.95              nan        nan        nan\n",
            " 0.95067568 0.94797297 0.94662162 0.95135135 0.95       0.94932432\n",
            "        nan        nan        nan 0.94527027 0.94594595 0.94594595\n",
            " 0.94662162 0.94594595 0.94864865        nan        nan        nan\n",
            " 0.97297297 0.97364865 0.97364865 0.96959459 0.97027027 0.97162162\n",
            "        nan        nan        nan 0.96756757 0.97027027 0.9722973\n",
            " 0.97027027 0.975      0.97297297        nan        nan        nan\n",
            " 0.97027027 0.97162162 0.97094595 0.9722973  0.97162162 0.97027027]\n",
            "  warnings.warn(\n"
          ]
        },
        {
          "output_type": "stream",
          "name": "stdout",
          "text": [
            "164.0984525680542\n"
          ]
        }
      ]
    },
    {
      "cell_type": "code",
      "source": [
        "rfclf.best_params_"
      ],
      "metadata": {
        "colab": {
          "base_uri": "https://localhost:8080/"
        },
        "id": "o18mh6q4pv15",
        "outputId": "a34739f0-8e77-4543-828f-4b97d20df238"
      },
      "execution_count": null,
      "outputs": [
        {
          "output_type": "execute_result",
          "data": {
            "text/plain": [
              "{'criterion': 'entropy',\n",
              " 'max_depth': 6,\n",
              " 'min_samples_leaf': 2,\n",
              " 'min_samples_split': 3,\n",
              " 'n_estimators': 100}"
            ]
          },
          "metadata": {},
          "execution_count": 73
        }
      ]
    },
    {
      "cell_type": "code",
      "source": [
        "rfclf.best_score_"
      ],
      "metadata": {
        "colab": {
          "base_uri": "https://localhost:8080/"
        },
        "id": "Fub1ATrOpzuE",
        "outputId": "e3796120-2a41-4db0-834c-8a2495f7cb22"
      },
      "execution_count": null,
      "outputs": [
        {
          "output_type": "execute_result",
          "data": {
            "text/plain": [
              "0.975"
            ]
          },
          "metadata": {},
          "execution_count": 74
        }
      ]
    },
    {
      "cell_type": "code",
      "source": [
        "rf_train_accuracy_score=accuracy_score(rfclf.predict(X_train),y_train)\n",
        "rf_test_accuracy_score=accuracy_score(rfclf.predict(X_test),y_test)"
      ],
      "metadata": {
        "id": "i3v22RhisNPp"
      },
      "execution_count": null,
      "outputs": []
    },
    {
      "cell_type": "code",
      "source": [
        "#Using Boosting Method\n",
        "#AdaBoosting\n",
        "# Define the grid search parameters\n",
        "ada_params = {'n_estimators': [50,100,200], \n",
        "          'base_estimator__max_depth': [1, 2, 3]}\n",
        "\n",
        "\n",
        "start_time=time.time()\n",
        "ada_boost = AdaBoostClassifier(base_estimator=DecisionTreeClassifier())\n",
        "adaboost=GridSearchCV(estimator=ada_boost,param_grid=ada_params)\n",
        "adaboost.fit(X_train,y_train)\n",
        "end_time=time.time()\n",
        "print(end_time-start_time)"
      ],
      "metadata": {
        "colab": {
          "base_uri": "https://localhost:8080/"
        },
        "id": "75pSh2Jwp3To",
        "outputId": "3cdd6766-1907-4a8a-92ec-078330cd9a98"
      },
      "execution_count": null,
      "outputs": [
        {
          "output_type": "stream",
          "name": "stdout",
          "text": [
            "26.406128644943237\n"
          ]
        }
      ]
    },
    {
      "cell_type": "code",
      "source": [
        "adaboost.best_params_"
      ],
      "metadata": {
        "colab": {
          "base_uri": "https://localhost:8080/"
        },
        "id": "e2WiYRkXrw5k",
        "outputId": "d4d3a49b-d1b5-4200-e995-72cdc553a73c"
      },
      "execution_count": null,
      "outputs": [
        {
          "output_type": "execute_result",
          "data": {
            "text/plain": [
              "{'base_estimator__max_depth': 3, 'n_estimators': 50}"
            ]
          },
          "metadata": {},
          "execution_count": 76
        }
      ]
    },
    {
      "cell_type": "code",
      "source": [
        "adaboost.best_score_"
      ],
      "metadata": {
        "colab": {
          "base_uri": "https://localhost:8080/"
        },
        "id": "RPDoLF__r0SE",
        "outputId": "31f6a302-8d9b-4ca5-e053-993c07a15aa8"
      },
      "execution_count": null,
      "outputs": [
        {
          "output_type": "execute_result",
          "data": {
            "text/plain": [
              "0.9851351351351353"
            ]
          },
          "metadata": {},
          "execution_count": 77
        }
      ]
    },
    {
      "cell_type": "code",
      "source": [
        "adaboost_train_accuracy_score=accuracy_score(adaboost.predict(X_train),y_train)\n",
        "adaboost_test_accuracy_score=accuracy_score(adaboost.predict(X_test),y_test)"
      ],
      "metadata": {
        "id": "48Jh4_yEr36x"
      },
      "execution_count": null,
      "outputs": []
    },
    {
      "cell_type": "code",
      "source": [
        "#Gradient Boosting\n",
        "# Define the grid search parameters\n",
        "gb_params ={'n_estimators':[50,100,200],\n",
        "            'max_depth':[2,4,6],\n",
        "            'min_samples_split':[1,2,3],\n",
        "            'min_samples_leaf':[1,2,3]}\n",
        "\n",
        "\n",
        "start_time=time.time()\n",
        "gboost=GridSearchCV(estimator=GradientBoostingClassifier(),param_grid=gb_params)\n",
        "gboost.fit(X_train,y_train)\n",
        "end_time=time.time()\n",
        "print(end_time-start_time)"
      ],
      "metadata": {
        "colab": {
          "base_uri": "https://localhost:8080/"
        },
        "id": "acqDTn6kse8i",
        "outputId": "632ab807-6451-4334-8dcc-1ac7e1d769c0"
      },
      "execution_count": null,
      "outputs": [
        {
          "output_type": "stream",
          "name": "stderr",
          "text": [
            "/usr/local/lib/python3.8/dist-packages/sklearn/model_selection/_validation.py:372: FitFailedWarning: \n",
            "135 fits failed out of a total of 405.\n",
            "The score on these train-test partitions for these parameters will be set to nan.\n",
            "If these failures are not expected, you can try to debug them by setting error_score='raise'.\n",
            "\n",
            "Below are more details about the failures:\n",
            "--------------------------------------------------------------------------------\n",
            "135 fits failed with the following error:\n",
            "Traceback (most recent call last):\n",
            "  File \"/usr/local/lib/python3.8/dist-packages/sklearn/model_selection/_validation.py\", line 680, in _fit_and_score\n",
            "    estimator.fit(X_train, y_train, **fit_params)\n",
            "  File \"/usr/local/lib/python3.8/dist-packages/sklearn/ensemble/_gb.py\", line 586, in fit\n",
            "    n_stages = self._fit_stages(\n",
            "  File \"/usr/local/lib/python3.8/dist-packages/sklearn/ensemble/_gb.py\", line 663, in _fit_stages\n",
            "    raw_predictions = self._fit_stage(\n",
            "  File \"/usr/local/lib/python3.8/dist-packages/sklearn/ensemble/_gb.py\", line 246, in _fit_stage\n",
            "    tree.fit(X, residual, sample_weight=sample_weight, check_input=False)\n",
            "  File \"/usr/local/lib/python3.8/dist-packages/sklearn/tree/_classes.py\", line 1315, in fit\n",
            "    super().fit(\n",
            "  File \"/usr/local/lib/python3.8/dist-packages/sklearn/tree/_classes.py\", line 250, in fit\n",
            "    raise ValueError(\n",
            "ValueError: min_samples_split must be an integer greater than 1 or a float in (0.0, 1.0]; got the integer 1\n",
            "\n",
            "  warnings.warn(some_fits_failed_message, FitFailedWarning)\n",
            "/usr/local/lib/python3.8/dist-packages/sklearn/model_selection/_search.py:969: UserWarning: One or more of the test scores are non-finite: [       nan        nan        nan 0.98378378 0.98581081 0.98513514\n",
            " 0.98378378 0.98581081 0.98513514        nan        nan        nan\n",
            " 0.98378378 0.98581081 0.98378378 0.98310811 0.98648649 0.98378378\n",
            "        nan        nan        nan 0.98310811 0.98581081 0.98513514\n",
            " 0.98310811 0.98581081 0.98513514        nan        nan        nan\n",
            " 0.98581081 0.98513514 0.98445946 0.98581081 0.98581081 0.98445946\n",
            "        nan        nan        nan 0.98783784 0.98513514 0.98310811\n",
            " 0.98716216 0.98513514 0.98378378        nan        nan        nan\n",
            " 0.98581081 0.98648649 0.98581081 0.98716216 0.98648649 0.98581081\n",
            "        nan        nan        nan 0.98445946 0.98513514 0.98513514\n",
            " 0.98445946 0.98581081 0.98581081        nan        nan        nan\n",
            " 0.98445946 0.98581081 0.98378378 0.98445946 0.98581081 0.98378378\n",
            "        nan        nan        nan 0.98513514 0.98716216 0.98445946\n",
            " 0.98513514 0.98648649 0.98378378]\n",
            "  warnings.warn(\n"
          ]
        },
        {
          "output_type": "stream",
          "name": "stdout",
          "text": [
            "675.0186839103699\n"
          ]
        }
      ]
    },
    {
      "cell_type": "code",
      "source": [
        "gboost.best_params_"
      ],
      "metadata": {
        "colab": {
          "base_uri": "https://localhost:8080/"
        },
        "id": "ND-D8uKPuFuv",
        "outputId": "1f20bfe8-5d2e-46c2-85b3-acf502bbb0ba"
      },
      "execution_count": null,
      "outputs": [
        {
          "output_type": "execute_result",
          "data": {
            "text/plain": [
              "{'max_depth': 4,\n",
              " 'min_samples_leaf': 2,\n",
              " 'min_samples_split': 2,\n",
              " 'n_estimators': 50}"
            ]
          },
          "metadata": {},
          "execution_count": 82
        }
      ]
    },
    {
      "cell_type": "code",
      "source": [
        "gboost.best_score_"
      ],
      "metadata": {
        "colab": {
          "base_uri": "https://localhost:8080/"
        },
        "id": "2yP-jdtcuFkR",
        "outputId": "3dc1e15f-40e1-466f-e54f-a39e21520fc5"
      },
      "execution_count": null,
      "outputs": [
        {
          "output_type": "execute_result",
          "data": {
            "text/plain": [
              "0.9878378378378379"
            ]
          },
          "metadata": {},
          "execution_count": 83
        }
      ]
    },
    {
      "cell_type": "code",
      "source": [
        "gboost_train_accuracy_score=accuracy_score(gboost.predict(X_train),y_train)\n",
        "gboost_test_accuracy_score=accuracy_score(gboost.predict(X_test),y_test)"
      ],
      "metadata": {
        "id": "UV0HgxGaw-Jw"
      },
      "execution_count": null,
      "outputs": []
    },
    {
      "cell_type": "code",
      "source": [
        "pd.DataFrame({'model':['LGR','KNN','DTree','SVM','Simple_ensamble Model','Bagging estimator','RandomForest','AdaBoost','GradientBoost'],\n",
        "              'train_score':[lgr_train_accuracy_score,knn_train_accuracy_score,dtree_train_accuracy_score,svc_train_accuracy_score,\n",
        "                             eclfsimple_train_accuracy_score,ebagging_train_accuracy_score,rf_train_accuracy_score,adaboost_train_accuracy_score,gboost_train_accuracy_score],\n",
        "              'test_score':[lgr_test_accuracy_score,knn_test_accuracy_score,dtree_test_accuracy_score,svc_test_accuracy_score,\n",
        "                            eclfsimple_test_accuracy_score,ebagging_test_accuracy_score,rf_test_accuracy_score,adaboost_test_accuracy_score,gboost_test_accuracy_score],\n",
        "              'average_fit_time':['0.4897654056549072 sec','2.6976072788238525 sec','2.3502724170684814 sec','37.825918674468994 sec',\n",
        "                                  '0.4118802547454834 sec','15.811113119125366 sec','164.0984525680542','26.406128644943237 sec','675.0186839103699 sec']}).set_index('model')\n",
        "\n",
        "\n",
        "                              "
      ],
      "metadata": {
        "colab": {
          "base_uri": "https://localhost:8080/",
          "height": 363
        },
        "id": "flEXKGd5uFhH",
        "outputId": "ff1869f6-4153-494c-f99d-77ae882b0e65"
      },
      "execution_count": null,
      "outputs": [
        {
          "output_type": "execute_result",
          "data": {
            "text/plain": [
              "                       train_score  test_score        average_fit_time\n",
              "model                                                                 \n",
              "LGR                       0.959459    0.957480  0.4897654056549072 sec\n",
              "KNN                       1.000000    0.966929  2.6976072788238525 sec\n",
              "DTree                     0.983108    0.985827  2.3502724170684814 sec\n",
              "SVM                       0.995946    0.973228  37.825918674468994 sec\n",
              "Simple_ensamble Model     0.989865    0.982677  0.4118802547454834 sec\n",
              "Bagging estimator         0.940541    0.932283  15.811113119125366 sec\n",
              "RandomForest              0.987162    0.970079       164.0984525680542\n",
              "AdaBoost                  0.997973    0.988976  26.406128644943237 sec\n",
              "GradientBoost             1.000000    0.988976   675.0186839103699 sec"
            ],
            "text/html": [
              "\n",
              "  <div id=\"df-980395b8-7d8d-4392-82d6-ac60dd7c7167\">\n",
              "    <div class=\"colab-df-container\">\n",
              "      <div>\n",
              "<style scoped>\n",
              "    .dataframe tbody tr th:only-of-type {\n",
              "        vertical-align: middle;\n",
              "    }\n",
              "\n",
              "    .dataframe tbody tr th {\n",
              "        vertical-align: top;\n",
              "    }\n",
              "\n",
              "    .dataframe thead th {\n",
              "        text-align: right;\n",
              "    }\n",
              "</style>\n",
              "<table border=\"1\" class=\"dataframe\">\n",
              "  <thead>\n",
              "    <tr style=\"text-align: right;\">\n",
              "      <th></th>\n",
              "      <th>train_score</th>\n",
              "      <th>test_score</th>\n",
              "      <th>average_fit_time</th>\n",
              "    </tr>\n",
              "    <tr>\n",
              "      <th>model</th>\n",
              "      <th></th>\n",
              "      <th></th>\n",
              "      <th></th>\n",
              "    </tr>\n",
              "  </thead>\n",
              "  <tbody>\n",
              "    <tr>\n",
              "      <th>LGR</th>\n",
              "      <td>0.959459</td>\n",
              "      <td>0.957480</td>\n",
              "      <td>0.4897654056549072 sec</td>\n",
              "    </tr>\n",
              "    <tr>\n",
              "      <th>KNN</th>\n",
              "      <td>1.000000</td>\n",
              "      <td>0.966929</td>\n",
              "      <td>2.6976072788238525 sec</td>\n",
              "    </tr>\n",
              "    <tr>\n",
              "      <th>DTree</th>\n",
              "      <td>0.983108</td>\n",
              "      <td>0.985827</td>\n",
              "      <td>2.3502724170684814 sec</td>\n",
              "    </tr>\n",
              "    <tr>\n",
              "      <th>SVM</th>\n",
              "      <td>0.995946</td>\n",
              "      <td>0.973228</td>\n",
              "      <td>37.825918674468994 sec</td>\n",
              "    </tr>\n",
              "    <tr>\n",
              "      <th>Simple_ensamble Model</th>\n",
              "      <td>0.989865</td>\n",
              "      <td>0.982677</td>\n",
              "      <td>0.4118802547454834 sec</td>\n",
              "    </tr>\n",
              "    <tr>\n",
              "      <th>Bagging estimator</th>\n",
              "      <td>0.940541</td>\n",
              "      <td>0.932283</td>\n",
              "      <td>15.811113119125366 sec</td>\n",
              "    </tr>\n",
              "    <tr>\n",
              "      <th>RandomForest</th>\n",
              "      <td>0.987162</td>\n",
              "      <td>0.970079</td>\n",
              "      <td>164.0984525680542</td>\n",
              "    </tr>\n",
              "    <tr>\n",
              "      <th>AdaBoost</th>\n",
              "      <td>0.997973</td>\n",
              "      <td>0.988976</td>\n",
              "      <td>26.406128644943237 sec</td>\n",
              "    </tr>\n",
              "    <tr>\n",
              "      <th>GradientBoost</th>\n",
              "      <td>1.000000</td>\n",
              "      <td>0.988976</td>\n",
              "      <td>675.0186839103699 sec</td>\n",
              "    </tr>\n",
              "  </tbody>\n",
              "</table>\n",
              "</div>\n",
              "      <button class=\"colab-df-convert\" onclick=\"convertToInteractive('df-980395b8-7d8d-4392-82d6-ac60dd7c7167')\"\n",
              "              title=\"Convert this dataframe to an interactive table.\"\n",
              "              style=\"display:none;\">\n",
              "        \n",
              "  <svg xmlns=\"http://www.w3.org/2000/svg\" height=\"24px\"viewBox=\"0 0 24 24\"\n",
              "       width=\"24px\">\n",
              "    <path d=\"M0 0h24v24H0V0z\" fill=\"none\"/>\n",
              "    <path d=\"M18.56 5.44l.94 2.06.94-2.06 2.06-.94-2.06-.94-.94-2.06-.94 2.06-2.06.94zm-11 1L8.5 8.5l.94-2.06 2.06-.94-2.06-.94L8.5 2.5l-.94 2.06-2.06.94zm10 10l.94 2.06.94-2.06 2.06-.94-2.06-.94-.94-2.06-.94 2.06-2.06.94z\"/><path d=\"M17.41 7.96l-1.37-1.37c-.4-.4-.92-.59-1.43-.59-.52 0-1.04.2-1.43.59L10.3 9.45l-7.72 7.72c-.78.78-.78 2.05 0 2.83L4 21.41c.39.39.9.59 1.41.59.51 0 1.02-.2 1.41-.59l7.78-7.78 2.81-2.81c.8-.78.8-2.07 0-2.86zM5.41 20L4 18.59l7.72-7.72 1.47 1.35L5.41 20z\"/>\n",
              "  </svg>\n",
              "      </button>\n",
              "      \n",
              "  <style>\n",
              "    .colab-df-container {\n",
              "      display:flex;\n",
              "      flex-wrap:wrap;\n",
              "      gap: 12px;\n",
              "    }\n",
              "\n",
              "    .colab-df-convert {\n",
              "      background-color: #E8F0FE;\n",
              "      border: none;\n",
              "      border-radius: 50%;\n",
              "      cursor: pointer;\n",
              "      display: none;\n",
              "      fill: #1967D2;\n",
              "      height: 32px;\n",
              "      padding: 0 0 0 0;\n",
              "      width: 32px;\n",
              "    }\n",
              "\n",
              "    .colab-df-convert:hover {\n",
              "      background-color: #E2EBFA;\n",
              "      box-shadow: 0px 1px 2px rgba(60, 64, 67, 0.3), 0px 1px 3px 1px rgba(60, 64, 67, 0.15);\n",
              "      fill: #174EA6;\n",
              "    }\n",
              "\n",
              "    [theme=dark] .colab-df-convert {\n",
              "      background-color: #3B4455;\n",
              "      fill: #D2E3FC;\n",
              "    }\n",
              "\n",
              "    [theme=dark] .colab-df-convert:hover {\n",
              "      background-color: #434B5C;\n",
              "      box-shadow: 0px 1px 3px 1px rgba(0, 0, 0, 0.15);\n",
              "      filter: drop-shadow(0px 1px 2px rgba(0, 0, 0, 0.3));\n",
              "      fill: #FFFFFF;\n",
              "    }\n",
              "  </style>\n",
              "\n",
              "      <script>\n",
              "        const buttonEl =\n",
              "          document.querySelector('#df-980395b8-7d8d-4392-82d6-ac60dd7c7167 button.colab-df-convert');\n",
              "        buttonEl.style.display =\n",
              "          google.colab.kernel.accessAllowed ? 'block' : 'none';\n",
              "\n",
              "        async function convertToInteractive(key) {\n",
              "          const element = document.querySelector('#df-980395b8-7d8d-4392-82d6-ac60dd7c7167');\n",
              "          const dataTable =\n",
              "            await google.colab.kernel.invokeFunction('convertToInteractive',\n",
              "                                                     [key], {});\n",
              "          if (!dataTable) return;\n",
              "\n",
              "          const docLinkHtml = 'Like what you see? Visit the ' +\n",
              "            '<a target=\"_blank\" href=https://colab.research.google.com/notebooks/data_table.ipynb>data table notebook</a>'\n",
              "            + ' to learn more about interactive tables.';\n",
              "          element.innerHTML = '';\n",
              "          dataTable['output_type'] = 'display_data';\n",
              "          await google.colab.output.renderOutput(dataTable, element);\n",
              "          const docLink = document.createElement('div');\n",
              "          docLink.innerHTML = docLinkHtml;\n",
              "          element.appendChild(docLink);\n",
              "        }\n",
              "      </script>\n",
              "    </div>\n",
              "  </div>\n",
              "  "
            ]
          },
          "metadata": {},
          "execution_count": 87
        }
      ]
    }
  ]
}